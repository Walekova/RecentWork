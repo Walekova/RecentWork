{
 "cells": [
  {
   "cell_type": "markdown",
   "metadata": {},
   "source": [
    "# HW 2 - Naive Bayes in Hadoop MR\n",
    "__`MIDS w261: Machine Learning at Scale | UC Berkeley School of Information | Fall 2018`__\n",
    "\n",
    "In the live sessions for week 2 and week 3 you got some practice designing and debugging Hadoop Streaming jobs. In this homework we'll use Hadoop MapReduce to implement your first parallelized machine learning algorithm: Naive Bayes. As you develop your implementation you'll test it on a small dataset that matches the 'Chinese Example' in the _Manning, Raghavan and Shutze_ reading for Week 2. For the main task in this assignment you'll be working with a small subset of the Enron Spam/Ham Corpus. By the end of this assignment you should be able to:\n",
    "* __... describe__ the Naive Bayes algorithm including both training and inference.\n",
    "* __... perform__ EDA on a corpus using Hadoop MR.\n",
    "* __... implement__ parallelized Naive Bayes.\n",
    "* __... constrast__ partial, unordered and total order sort and their implementations in Hadoop Streaming.\n",
    "* __... explain__ how smoothing affects the bias and variance of a Multinomial Naive Bayes model.\n",
    "\n",
    "As always, your work will be graded both on the correctness of your output and on the clarity and design of your code. __Please refer to the `README` for homework submission instructions.__ "
   ]
  },
  {
   "cell_type": "markdown",
   "metadata": {},
   "source": [
    "## Notebook Setup\n",
    "Before starting, run the following cells to confirm your setup."
   ]
  },
  {
   "cell_type": "code",
   "execution_count": 1,
   "metadata": {},
   "outputs": [],
   "source": [
    "# imports\n",
    "import numpy as np\n",
    "import matplotlib.pyplot as plt\n",
    "%matplotlib inline\n",
    "%reload_ext autoreload\n",
    "%autoreload 2"
   ]
  },
  {
   "cell_type": "code",
   "execution_count": 36,
   "metadata": {},
   "outputs": [],
   "source": [
    "# global vars (paths) - ADJUST AS NEEDED\n",
    "JAR_FILE = \"/usr/lib/hadoop-mapreduce/hadoop-streaming.jar\"\n",
    "HDFS_DIR = \"/user/root/HW2\"\n",
    "HOME_DIR = \"\" # FILL IN HERE eg. /media/notebooks/Assignments/HW2"
   ]
  },
  {
   "cell_type": "code",
   "execution_count": 3,
   "metadata": {},
   "outputs": [],
   "source": [
    "# save path for use in Hadoop jobs (-cmdenv PATH={PATH})\n",
    "from os import environ\n",
    "PATH  = environ['PATH']"
   ]
  },
  {
   "cell_type": "code",
   "execution_count": 4,
   "metadata": {},
   "outputs": [],
   "source": [
    "# data path\n",
    "ENRON = \"data/enronemail_1h.txt\""
   ]
  },
  {
   "cell_type": "code",
   "execution_count": 5,
   "metadata": {},
   "outputs": [
    {
     "name": "stdout",
     "output_type": "stream",
     "text": [
      "Found 1 items\n",
      "drwxr-xr-x   - root supergroup          0 2020-01-25 16:02 demo2\n"
     ]
    }
   ],
   "source": [
    "# make the HDFS directory if it doesn't already exist\n",
    "!hdfs dfs -ls \n",
    "!hdfs dfs -mkdir {HDFS_DIR}"
   ]
  },
  {
   "cell_type": "markdown",
   "metadata": {},
   "source": [
    "# Question 1: Hadoop MapReduce Key Takeaways.  \n",
    "\n",
    "This assignment will be the only one in which you use Hadoop Streaming to implement a distributed algorithm. The key reason we continue to teach Hadoop streaming is because of the way it forces the programmer to think carefully about what is happening under the hood when you parallelize a calculation. This question will briefly highlight some of the most important concepts that you need to understand about Hadoop Streaming and MapReduce before we move on to Spark next week.   \n",
    "\n",
    "### Q1 Tasks:\n",
    "\n",
    "* __a) short response:__ What \"programming paradigm\" is Hadoop MapReduce based on? What are the main ideas of this programming paradigm and how does MapReduce exemplify these ideas?\n",
    "\n",
    "* __b) short response:__ What is the Hadoop Shuffle? When does it happen? Why is it potentially costly? Describe one specific thing we can we do to mitigate the cost associated with this stage of our Hadoop Streaming jobs.\n",
    "\n",
    "* __c) short response:__ In Hadoop Streaming why do the input and output record format of a combiner script have to be the same? [__`HINT`__ _what level of combining does the framework guarantee? what is the relationship between the record format your mapper emits and the format your reducer expects to receive?_]\n",
    "\n",
    "* __d) short response:__ To what extent can you control the level of parallelization of your Hadoop Streaming jobs? Please be specific.\n",
    "\n",
    "* __e) short response:__ What change in the kind of computing resources available prompted the creation of parallel computation frameworks like Hadoop? "
   ]
  },
  {
   "cell_type": "markdown",
   "metadata": {},
   "source": [
    "### Q1 Student Answers:\n",
    "\n",
    "> __a)__ \n",
    "\n",
    "__What \"programming paradigm\" is Hadoop MapReduce based on?__\n",
    "Functional programming-declarative programming paradigm, which means programming is done with expressions\n",
    "\n",
    "__What are the main ideas of this programming paradigm?__\n",
    "- In functional programming functions are written to avoid: sharing state, mutating data, and side-effects, i.e. the output value of a function is always the same as long as the arguments that are input to the function are the same. So calling a function f twice with the same value for an argument x will produce the same result each time.\n",
    "- accept function as arguments / higher order function.\n",
    "\n",
    "__How does MapReduce exemplify these ideas?__\n",
    "Map - Applies function to each element of iterable and creates a list of the results\n",
    "- Order of operations does not matter - Associative property\n",
    "Reduce - also Applies function to each element in iterable \n",
    "- subject to the function being associative nad/ or commutative efficiencies can be achieved at reduce stage\n",
    "\n",
    "> __b)__ \n",
    "\n",
    "__What is the Hadoop Shuffle?__\n",
    "The process by which the system performs sort and transfers the map outputs to the reducers as inputs.\n",
    "\n",
    "__When does it happen?__\n",
    "between map and reduce tasks\n",
    "\n",
    "__Why is it potentially costly?__\n",
    "Because it involves writing to disk and copying data which involse I/O and network\n",
    "\n",
    "__Describe one specific thing we can we do to mitigate the cost associated with this stage of our Hadoop Streaming jobs.__\n",
    "map side - avoiding multiple spills to disk. Estimate the output to minimizethe number of spills\n",
    "reduce side - have as much intermediate data reside in memory\n",
    "\n",
    "> __c)__ \n",
    "\n",
    "__In Hadoop Streaming why do the input and output record format of a combiner script have to be the same?__\n",
    "what level of combining does the framework guarantee? \n",
    "what is the relationship between the record format your mapper emits and the format your reducer expects to receive?\n",
    "\n",
    "For the same reason why the Map output and Reduce input are the same. Combiner is executed at each buffer spill. By default combiner is optional and mapreduce framework does not guarantee to execute the combiner given to the job.\n",
    "\n",
    "> __d)__ \n",
    "\n",
    "__To what extent can you control the level of parallelization of your Hadoop Streaming jobs?__\n",
    "Map stage - map tasks are generally associative and can be parallelized. The optimal number of parallel tasks is largely driven by how much data we can process in memory to avoid / minimize writing to disk.\n",
    "Map / Reduce tasks - it is not possible to parallelize map and reduce task as there is a hard barrier. All map tasks have to complete before reduce tasks start.\n",
    "Reduce stage - degree of parallelization is dependent on the format of the output we require. I case, where in reduce task for example it is possible to sort and direct the keys to a particular reducer then we can parallelize the reducer tasks. However this is not always possible - for example in case where we need to calculate the mean of all records we would need to bring all records together.\n",
    "> __e)__   \n",
    "\n",
    "__What change in the kind of computing resources available prompted the creation of parallel computation frameworks like Hadoop?__\n",
    "the availability of low end computing resources prompted the creation of Hadoop like frameworks as these turn out to be cheaper to operate. however it requires higher number of resources which in turn requires increased ability to address faults in the process. This led to Hadoop like frameworks which enable easy parallelization of tasks and to large extent address failures of tasks in an automated manner. "
   ]
  },
  {
   "cell_type": "markdown",
   "metadata": {},
   "source": [
    "# Question 2: MapReduce Design Patterns.  \n",
    "\n",
    "In the last two live sessions and in your readings from Lin & Dyer you encountered a number of techniques for manipulating the logistics of a MapReduce implementation to ensure that the right information is available at the right time and location. In this question we'll review a few of the key techniques you learned.   \n",
    "\n",
    "### Q2 Tasks:\n",
    "\n",
    "* __a) short response:__ What are counters (in the context of Hadoop Streaming)? How are they useful? What kinds of counters does Hadoop provide for you? How do you create your own custom counter?\n",
    "\n",
    "* __b) short response:__ What are composite keys? How are they useful? How are they related to the idea of custom partitioning?\n",
    "\n",
    "* __c) short response:__ What is the order inversion pattern? What problem does it help solve? How do we implement it? "
   ]
  },
  {
   "cell_type": "markdown",
   "metadata": {},
   "source": [
    "### Q2 Student Answers:\n",
    "\n",
    "> __a)__   \n",
    "\n",
    "__What are counters (in the context of Hadoop Streaming)?__\n",
    "Hadoop Counters provides a way to measure the progress or the number of operations that occur within map/reduce job. \n",
    "__How are they useful?__\n",
    "useful channel for gathering statistics about the MapReduce job: for quality control or for application-level. They are also useful for problem diagnosis.\n",
    "Hadoop Counters validate that:\n",
    "-The correct number of bytes was read and written.\n",
    "-The correct number of tasks was launched and successfully ran.\n",
    "-The amount of CPU and memory consumed is appropriate for our job and cluster nodes.\n",
    "\n",
    "__What kinds of counters does Hadoop provide for you?__\n",
    "Built-In Counters in MapReduce\n",
    "- Mapreduce Task Counters (Map input records=5)\n",
    "- File system counters (FILE: Number of bytes read=60)\n",
    "- Job Counters (Killed reduce tasks=1)\n",
    "Custom counters in MapReduce\n",
    "User-Defined Java Counters\n",
    "User-Defined Streaming Counters\n",
    "\n",
    "__How do you create your own custom counter?__\n",
    "User-Defined Java Counters - by defining a java enum and then updating mapper or reducer to include conditions when the counter should increment. \\\n",
    "User-Defined Streaming Counters - increment counters byspecially formatted stderr stream\n",
    "example from book:\n",
    "sys.stderr.write('reporter:counter:Temperature, Missi0ng,1\\n')\n",
    "\n",
    "> __b)__ \n",
    "\n",
    "__What are composite keys?__\n",
    "Composite keys are keys that have more than one attribute. An example is using:\n",
    "-D stream.num.map.output.key.fields=2 : tells Hadoop to treat both the first/ key and the second / value (tab separated) fields as a composite key.\n",
    "-create composite key from more columns by implementing WritableComparable interface\n",
    "\n",
    "__How are they useful?__\n",
    "Enable sorting by two different values \n",
    "Enable distribution of sorted data from mappers to reducers\n",
    "\n",
    "__How are they related to the idea of custom partitioning?__\n",
    "Example:\n",
    "The First Key is responsible for data distribution across your nodes.\n",
    "The Second Key is responsible for data sorting within the partition.\n",
    "\n",
    "> __c)__ Type your answer here! \n",
    "\n",
    "__What is the order inversion pattern?__\n",
    "can be used to control the order of reducer values in the MapReduce framework (which is useful because some computations require ordered data)\n",
    "__What problem does it help solve?__\n",
    "Aggregation and other types of calculation. The sorting enables implementation of logic to achieve this.\n",
    "__How do we implement it?__\n",
    "To provide appropriate flexibility we leverage partitioning as well as hadoop streaming command / hadoop shuffle/ sorting functionality."
   ]
  },
  {
   "cell_type": "markdown",
   "metadata": {},
   "source": [
    "# Question 3: Understanding Total Order Sort\n",
    "\n",
    "The key challenge in distributed computing is to break a problem into a set of sub-problems that can be performed without communicating with each other. Ideally, we should be able to define an arbirtary number of splits and still get the right result, but that is not always possible. Parallelization becomes particularly challenging when we need to make comparisons between records, for example when sorting. Total Order Sort allows us to order large datasets in a way that enables efficient retrieval of results. Before beginning this assignment, make sure you have read and understand the [Total Order Sort Notebook](https://github.com/UCB-w261/main/tree/master/HelpfulResources/TotalSortGuide/_total-sort-guide-spark2.01-JAN27-2017.ipynb). You can skip the first two MRJob sections, but the rest of section III and all of section IV are **very** important (and apply to Hadoop Streaming) so make sure to read them closely. Feel free to read the Spark sections as well but you won't be responsible for that material until later in the course. To verify your understanding, answer the following questions.\n",
    "\n",
    "### Q3 Tasks:\n",
    "\n",
    "* __a) short response:__ What is the difference between a partial sort, an unordered total sort, and a total order sort? From the programmer's perspective, what does total order sort allow us to do that we can't with unordered total? Why is this important with large datasets?\n",
    "\n",
    "* __b) short response:__ Which phase of a MapReduce job is leveraged to implement Total Order Sort? Which default behaviors must be changed. Why must they be changed?\n",
    "\n",
    "* __c) short response:__ Describe in words how to configure a Hadoop Streaming job for the custom sorting and partitioning that is required for Total Order Sort.  \n",
    "\n",
    "* __d) short response:__ Explain why we need to use an inverse hash code function.\n",
    "\n",
    "* __e) short response:__ Where does this function need to be located so that a Total Order Sort can be performed?"
   ]
  },
  {
   "cell_type": "markdown",
   "metadata": {},
   "source": [
    "### Q3 Student Answers:\n",
    "\n",
    "> __a)__  \n",
    "\n",
    "__What is the difference between a partial sort, an unordered total sort, and a total order sort?__\n",
    "Partial sort - default sorting - sort input records by keys, records are only ordered relative to the other keys that happen to be processed by the same reducer.\n",
    "Unordered total sort - the records with the top value didn't reliably end up in the first partition nor did the records with the lowest values necessarily end up in the last. The partition files themselves were out of order\n",
    "Total order sort - When your data is sorted not only within each partition but the partitions are also in the right order\n",
    "\n",
    "__From the programmer's perspective, what does total order sort allow us to do that we can't with unordered total?__\n",
    "concatenate the files into one to get all result in one place\n",
    "\n",
    "__Why is this important with large datasets?__\n",
    "Concatenating files is faster than sorting files to be able to concatenate them\n",
    "\n",
    "> __b)__  \n",
    "\n",
    "__Which phase of a MapReduce job is leveraged to implement Total Order Sort?__\n",
    "mapper\n",
    "__Which default behaviors must be changed. Why must they be changed?__\n",
    "sort of partition keys. Because Haddop sorts by Hask Keys and these are not sorted in a human readable way\n",
    "\n",
    "> __c)__  \n",
    "\n",
    "__Describe in words how to configure a Hadoop Streaming job for the custom sorting and partitioning that is required for Total Order Sort.__ \n",
    "Custom sorting\n",
    "Partitioning\n",
    "\n",
    "> __d)__   \n",
    "\n",
    "__Explain why we need to use an inverse hash code function.__\n",
    "to enable sort in the human readable way, as Hadoop performs sort by hask key rather than the key itself\n",
    "\n",
    "> __e)__  \n",
    "\n",
    "__Where does this function need to be located so that a Total Order Sort can be performed?__\n",
    "defined in the mapper and used in the partition function"
   ]
  },
  {
   "cell_type": "markdown",
   "metadata": {},
   "source": [
    "# About the Data\n",
    "For the main task in this portion of the homework you will train a classifier to determine whether an email represents spam or not. You will train your Naive Bayes model on a 100 record subset of the Enron Spam/Ham corpus available in the HW2 data directory (__`HW2/data/enronemail_1h.txt`__).\n",
    "\n",
    "__Source:__   \n",
    "The original data included about 93,000 emails which were made public after the company's collapse. There have been a number raw and preprocessed versions of this corpus (including those available [here](http://www.aueb.gr/users/ion/data/enron-spam/index.html) and [here](http://www.aueb.gr/users/ion/publications.html)). The subset we will use is limited to emails from 6 Enron employees and a number of spam sources. It is part of [this data set](http://www.aueb.gr/users/ion/data/enron-spam/) which was created by researchers working on personlized Bayesian spam filters. Their original publication is [available here](http://www.aueb.gr/users/ion/docs/ceas2006_paper.pdf). __`IMPORTANT!`__ _For this homework please limit your analysis to the 100 email subset which we provide. No need to download or run your analysis on any of the original datasets, those links are merely provided as context._\n",
    "\n",
    "__Preprocessing:__  \n",
    "For their work, Metsis et al. (the authors) appeared to have pre-processed the data, not only collapsing all text to lower-case, but additionally separating \"words\" by spaces, where \"words\" unfortunately include punctuation. As a concrete example, the sentence:  \n",
    ">  `Hey Jon, I hope you don't get lost out there this weekend!`  \n",
    "\n",
    "... would have been reduced by Metsis et al. to the form:  \n",
    "> `hey jon , i hope you don ' t get lost out there this weekend !` \n",
    "\n",
    "... so we have reverted the data back toward its original state, removing spaces so that our sample sentence would now look like:\n",
    "> `hey jon, i hope you don't get lost out there this weekend!`  \n",
    "\n",
    "Thus we have at least preserved contractions and other higher-order lexical forms. However, one must be aware that this reversion is not complete, and that some object (specifically web sites) will be ill-formatted, and that all text is still lower-cased.\n",
    "\n",
    "\n",
    "__Format:__   \n",
    "All messages are collated to a tab-delimited format:  \n",
    "\n",
    ">    `ID \\t SPAM \\t SUBJECT \\t CONTENT \\n`  \n",
    "\n",
    "where:  \n",
    ">    `ID = string; unique message identifier`  \n",
    "    `SPAM = binary; with 1 indicating a spam message`  \n",
    "    `SUBJECT = string; title of the message`  \n",
    "    `CONTENT = string; content of the message`   \n",
    "    \n",
    "Note that either of `SUBJECT` or `CONTENT` may be \"NA\", and that all tab (\\t) and newline (\\n) characters have been removed from both of the `SUBJECT` and `CONTENT` columns.  "
   ]
  },
  {
   "cell_type": "code",
   "execution_count": 6,
   "metadata": {},
   "outputs": [
    {
     "name": "stdout",
     "output_type": "stream",
     "text": [
      "/media/notebooks/Assignments/HW2\n"
     ]
    }
   ],
   "source": [
    "!pwd"
   ]
  },
  {
   "cell_type": "code",
   "execution_count": 9,
   "metadata": {},
   "outputs": [
    {
     "name": "stdout",
     "output_type": "stream",
     "text": [
      "0001.1999-12-10.farmer\t0\t christmas tree farm pictures\tNA\n",
      "0001.1999-12-10.kaminski\t0\t re: rankings\t thank you.\n",
      "0001.2000-01-17.beck\t0\t leadership development pilot\t\" sally:  what timing, ask and you shall receiv\n",
      "0001.2000-06-06.lokay\t0\t\" key dates and impact of upcoming sap implementation over the next few week\n",
      "0001.2001-02-07.kitchen\t0\t key hr issues going forward\t a) year end reviews-report needs generating \n"
     ]
    }
   ],
   "source": [
    "# take a look at the first 100 characters of the first 5 records (RUN THIS CELL AS IS)\n",
    "!head -n 5 /media/notebooks/Assignments/HW2/{ENRON} | cut -c-100"
   ]
  },
  {
   "cell_type": "code",
   "execution_count": 10,
   "metadata": {},
   "outputs": [
    {
     "name": "stdout",
     "output_type": "stream",
     "text": [
      "100 /media/notebooks/Assignments/HW2/data/enronemail_1h.txt\n"
     ]
    }
   ],
   "source": [
    "# see how many messages/lines are in the file \n",
    "#(this number may be off by 1 if the last line doesn't end with a newline)\n",
    "!wc -l /media/notebooks/Assignments/HW2/{ENRON}"
   ]
  },
  {
   "cell_type": "code",
   "execution_count": 11,
   "metadata": {},
   "outputs": [
    {
     "name": "stdout",
     "output_type": "stream",
     "text": [
      "mkdir: `/user/root/HW2': File exists\n"
     ]
    }
   ],
   "source": [
    "# make the HDFS directory if it doesn't already exist\n",
    "!hdfs dfs -mkdir {HDFS_DIR}"
   ]
  },
  {
   "cell_type": "code",
   "execution_count": 12,
   "metadata": {},
   "outputs": [],
   "source": [
    "# load the data into HDFS (RUN THIS CELL AS IS)\n",
    "!hdfs dfs -copyFromLocal /media/notebooks/Assignments/HW2/{ENRON} {HDFS_DIR}/enron.txt"
   ]
  },
  {
   "cell_type": "code",
   "execution_count": 13,
   "metadata": {},
   "outputs": [
    {
     "name": "stdout",
     "output_type": "stream",
     "text": [
      "Found 1 items\n",
      "-rw-r--r--   1 root supergroup     204559 2020-01-26 11:22 /user/root/HW2/enron.txt\n"
     ]
    }
   ],
   "source": [
    "!hdfs dfs -ls {HDFS_DIR}"
   ]
  },
  {
   "cell_type": "markdown",
   "metadata": {},
   "source": [
    "# Question 4:  Enron Ham/Spam EDA.\n",
    "Before building our classifier, lets get aquainted with our data. In particular, we're interested in which words occur more in spam emails than in legitimate (\"ham\") emails. In this question you'll implement two Hadoop MapReduce jobs to count and sort word occurrences by document class. You'll also learn about two new Hadoop streaming parameters that will allow you to control how the records output from your mappers are partitioned for reducing on separate nodes. \n",
    "\n",
    "__`IMPORTANT NOTE:`__ For this question and all subsequent items, you should include both the subject and the body of the email in your analysis (i.e. concatetate them to get the 'text' of the document).\n",
    "\n",
    "### Q4 Tasks:\n",
    "* __a) code:__ Complete the missing components of the code in __`EnronEDA/mapper.py`__ and __`EnronEDA/reducer.py`__ to create a Hadoop  MapReduce job that counts how many times each word in the corpus occurs in an email for each class. Pay close attention to the data format specified in the docstrings of these scripts _-- there are a number of ways to accomplish this task, we've chosen this format to help illustrate a technique in `part e`_. Run the provided unit tests to confirm that your code works as expected, then run the provided Hadoop Streaming command to apply your analysis to the Enron data.\n",
    "\n",
    "\n",
    "* __b) code + short response:__ How many times does the word \"__assistance__\" occur in each class? (`HINT:` Use a `grep` command to read from the results file you generated in '`a`' and then report the answer in the space provided.)\n",
    "\n",
    "\n",
    "* __c) short response:__ Would it have been possible to add some sorting parameters to the Hadoop streaming command that would cause our `part a` results to be sorted by count? Explain why or why not. (`HINT:` This question demands an understanding of the sequence of the phases of MapReduce.)\n",
    "\n",
    "\n",
    "* __d) code + short response:__ Write a second Hadoop MapReduce job to sort the output of `part a` first by class and then by count. Run your job and save the results to a local file. Then describe in words how you would go about printing the top 10 words in each class given this sorted output. (`HINT 1:` _remember that you can simply pass the `part a` output directory to the input field of this job; `HINT 2:` since this task is just reodering the records from `part a` we don't need to write a mapper or reducer, just use `/bin/cat` for both_)\n",
    "\n",
    "\n",
    "* __e) code:__ A more efficient alternative to '`grep`-ing' for the top 10 words in each class would be to use the Hadoop framework to separate records from each class into its own partition so that we can just read the top lines in each. Rewrite your job from ` part d` to specify 2 reduce tasks and to tell Hadoop to partition based on the second field (which indicates spam/ham in our data). Your code should maintain the secondary sort -- that is each partition should list words from most to least frequent."
   ]
  },
  {
   "cell_type": "markdown",
   "metadata": {},
   "source": [
    "### Q4 Student Answers:\n",
    "> __b)__ \\\n",
    "\n",
    "assistance\t1\t8 \\\n",
    "assistance\t0\t2 \n",
    "\n",
    "> __c)__ \n",
    "\n",
    "__sorting parameters to the Hadoop streaming command that would cause our `part a` results to be sorted by count__\n",
    "the results will be partitioned before they are sorted. Therefore even though we can apply sort by count it will be applied after partitioning and therefore it would not provide the desired result.\n",
    "\n",
    "> __d)__ \n",
    "\n",
    "__how you would go about printing the top 10 words in each class given this sorted output__\n",
    "1. get top 10 from each file filtered by class \n",
    "2. concatenate \n",
    "3. Sort by class and count - reverse\n",
    "4. Display top 10 aka head\n",
    "while this is not too onerous for two files this would be more complicated with increased number of files"
   ]
  },
  {
   "cell_type": "code",
   "execution_count": 14,
   "metadata": {},
   "outputs": [],
   "source": [
    "# part a - do your work in the provided scripts then RUN THIS CELL AS IS\n",
    "!chmod a+x EnronEDA/mapper.py\n",
    "!chmod a+x EnronEDA/reducer.py"
   ]
  },
  {
   "cell_type": "code",
   "execution_count": 15,
   "metadata": {},
   "outputs": [
    {
     "name": "stdout",
     "output_type": "stream",
     "text": [
      "title\t1\t1\n",
      "body\t1\t1\n",
      "title\t0\t1\n",
      "body\t0\t1\n"
     ]
    }
   ],
   "source": [
    "# part a - unit test EnronEDA/mapper.py (RUN THIS CELL AS IS)\n",
    "!echo -e \"d1\t1\ttitle\tbody\\nd2\t0\ttitle\tbody\" | EnronEDA/mapper.py"
   ]
  },
  {
   "cell_type": "code",
   "execution_count": 32,
   "metadata": {},
   "outputs": [
    {
     "name": "stdout",
     "output_type": "stream",
     "text": [
      "one\t1\t1\n",
      "one\t0\t2\n",
      "two\t1\t0\n",
      "two\t0\t1\n"
     ]
    }
   ],
   "source": [
    "# part a - unit test EnronEDA/reducer.py (RUN THIS CELL AS IS)\n",
    "!echo -e \"one\t1\t1\\none\t0\t1\\none\t0\t1\\ntwo\t0\t1\" | EnronEDA/reducer.py"
   ]
  },
  {
   "cell_type": "code",
   "execution_count": 37,
   "metadata": {},
   "outputs": [
    {
     "name": "stdout",
     "output_type": "stream",
     "text": [
      "rm: `/user/root/HW2/eda-output': No such file or directory\n"
     ]
    }
   ],
   "source": [
    "# part a - clear output directory in HDFS (RUN THIS CELL AS IS)\n",
    "!hdfs dfs -rm -r {HDFS_DIR}/eda-output"
   ]
  },
  {
   "cell_type": "code",
   "execution_count": 38,
   "metadata": {},
   "outputs": [
    {
     "name": "stdout",
     "output_type": "stream",
     "text": [
      "rm: `/user/root/HW2/eda-output': No such file or directory\n",
      "packageJobJar: [] [/usr/lib/hadoop-mapreduce/hadoop-streaming-2.6.0-cdh5.16.2.jar] /tmp/streamjob7889522164996968704.jar tmpDir=null\n",
      "20/01/26 15:05:54 INFO client.RMProxy: Connecting to ResourceManager at /0.0.0.0:8032\n",
      "20/01/26 15:05:54 INFO client.RMProxy: Connecting to ResourceManager at /0.0.0.0:8032\n",
      "20/01/26 15:05:55 INFO mapred.FileInputFormat: Total input paths to process : 1\n",
      "20/01/26 15:05:55 INFO mapreduce.JobSubmitter: number of splits:2\n",
      "20/01/26 15:05:55 INFO mapreduce.JobSubmitter: Submitting tokens for job: job_1579903014542_0027\n",
      "20/01/26 15:05:55 INFO impl.YarnClientImpl: Submitted application application_1579903014542_0027\n",
      "20/01/26 15:05:55 INFO mapreduce.Job: The url to track the job: http://docker.w261:8088/proxy/application_1579903014542_0027/\n",
      "20/01/26 15:05:55 INFO mapreduce.Job: Running job: job_1579903014542_0027\n",
      "20/01/26 15:06:02 INFO mapreduce.Job: Job job_1579903014542_0027 running in uber mode : false\n",
      "20/01/26 15:06:02 INFO mapreduce.Job:  map 0% reduce 0%\n",
      "20/01/26 15:06:10 INFO mapreduce.Job:  map 50% reduce 0%\n",
      "20/01/26 15:06:11 INFO mapreduce.Job:  map 100% reduce 0%\n",
      "20/01/26 15:06:19 INFO mapreduce.Job:  map 100% reduce 50%\n",
      "20/01/26 15:06:21 INFO mapreduce.Job:  map 100% reduce 100%\n",
      "20/01/26 15:06:21 INFO mapreduce.Job: Job job_1579903014542_0027 completed successfully\n",
      "20/01/26 15:06:21 INFO mapreduce.Job: Counters: 50\n",
      "\tFile System Counters\n",
      "\t\tFILE: Number of bytes read=369010\n",
      "\t\tFILE: Number of bytes written=1335626\n",
      "\t\tFILE: Number of read operations=0\n",
      "\t\tFILE: Number of large read operations=0\n",
      "\t\tFILE: Number of write operations=0\n",
      "\t\tHDFS: Number of bytes read=217061\n",
      "\t\tHDFS: Number of bytes written=119173\n",
      "\t\tHDFS: Number of read operations=12\n",
      "\t\tHDFS: Number of large read operations=0\n",
      "\t\tHDFS: Number of write operations=4\n",
      "\tJob Counters \n",
      "\t\tKilled reduce tasks=1\n",
      "\t\tLaunched map tasks=2\n",
      "\t\tLaunched reduce tasks=2\n",
      "\t\tData-local map tasks=2\n",
      "\t\tTotal time spent by all maps in occupied slots (ms)=9979\n",
      "\t\tTotal time spent by all reduces in occupied slots (ms)=10673\n",
      "\t\tTotal time spent by all map tasks (ms)=9979\n",
      "\t\tTotal time spent by all reduce tasks (ms)=10673\n",
      "\t\tTotal vcore-milliseconds taken by all map tasks=9979\n",
      "\t\tTotal vcore-milliseconds taken by all reduce tasks=10673\n",
      "\t\tTotal megabyte-milliseconds taken by all map tasks=10218496\n",
      "\t\tTotal megabyte-milliseconds taken by all reduce tasks=10929152\n",
      "\tMap-Reduce Framework\n",
      "\t\tMap input records=100\n",
      "\t\tMap output records=31490\n",
      "\t\tMap output bytes=306018\n",
      "\t\tMap output materialized bytes=369022\n",
      "\t\tInput split bytes=214\n",
      "\t\tCombine input records=0\n",
      "\t\tCombine output records=0\n",
      "\t\tReduce input groups=5065\n",
      "\t\tReduce shuffle bytes=369022\n",
      "\t\tReduce input records=31490\n",
      "\t\tReduce output records=10130\n",
      "\t\tSpilled Records=62980\n",
      "\t\tShuffled Maps =4\n",
      "\t\tFailed Shuffles=0\n",
      "\t\tMerged Map outputs=4\n",
      "\t\tGC time elapsed (ms)=267\n",
      "\t\tCPU time spent (ms)=8530\n",
      "\t\tPhysical memory (bytes) snapshot=1146114048\n",
      "\t\tVirtual memory (bytes) snapshot=5502324736\n",
      "\t\tTotal committed heap usage (bytes)=1195376640\n",
      "\tShuffle Errors\n",
      "\t\tBAD_ID=0\n",
      "\t\tCONNECTION=0\n",
      "\t\tIO_ERROR=0\n",
      "\t\tWRONG_LENGTH=0\n",
      "\t\tWRONG_MAP=0\n",
      "\t\tWRONG_REDUCE=0\n",
      "\tFile Input Format Counters \n",
      "\t\tBytes Read=216847\n",
      "\tFile Output Format Counters \n",
      "\t\tBytes Written=119173\n",
      "20/01/26 15:06:21 INFO streaming.StreamJob: Output directory: /user/root/HW2/eda-output\n"
     ]
    }
   ],
   "source": [
    "# part a - Hadoop streaming job (RUN THIS CELL AS IS)\n",
    "!hdfs dfs -rm -r {HDFS_DIR}/eda-output\n",
    "!hadoop jar {JAR_FILE} \\\n",
    "  -files EnronEDA/reducer.py,EnronEDA/mapper.py \\\n",
    "  -mapper mapper.py \\\n",
    "  -reducer reducer.py \\\n",
    "  -input {HDFS_DIR}/enron.txt \\\n",
    "  -output {HDFS_DIR}/eda-output \\\n",
    "  -numReduceTasks 2 \\\n",
    "  -cmdenv PATH={PATH}"
   ]
  },
  {
   "cell_type": "code",
   "execution_count": 39,
   "metadata": {},
   "outputs": [],
   "source": [
    "# part a - retrieve results from HDFS & copy them into a local file (RUN THIS CELL AS IS)\n",
    "!hdfs dfs -cat {HDFS_DIR}/eda-output/part-0000* > EnronEDA/results.txt"
   ]
  },
  {
   "cell_type": "code",
   "execution_count": 40,
   "metadata": {},
   "outputs": [
    {
     "name": "stdout",
     "output_type": "stream",
     "text": [
      "assistance\t1\t8\n",
      "assistance\t0\t2\n"
     ]
    }
   ],
   "source": [
    "# part b - write your grep command here\n",
    "!grep 'assistance' EnronEDA/results.txt"
   ]
  },
  {
   "cell_type": "code",
   "execution_count": 46,
   "metadata": {},
   "outputs": [
    {
     "name": "stdout",
     "output_type": "stream",
     "text": [
      "Deleted /user/root/HW2/eda-sort-output\n"
     ]
    }
   ],
   "source": [
    "# part d - clear the output directory in HDFS (RUN THIS CELL AS IS)\n",
    "!hdfs dfs -rm -r {HDFS_DIR}/eda-sort-output"
   ]
  },
  {
   "cell_type": "code",
   "execution_count": 49,
   "metadata": {},
   "outputs": [
    {
     "name": "stdout",
     "output_type": "stream",
     "text": [
      "Deleted /user/root/HW2/eda-sort-output\n",
      "packageJobJar: [] [/usr/lib/hadoop-mapreduce/hadoop-streaming-2.6.0-cdh5.16.2.jar] /tmp/streamjob8844326108999041629.jar tmpDir=null\n",
      "20/01/26 15:36:04 INFO client.RMProxy: Connecting to ResourceManager at /0.0.0.0:8032\n",
      "20/01/26 15:36:05 INFO client.RMProxy: Connecting to ResourceManager at /0.0.0.0:8032\n",
      "20/01/26 15:36:05 INFO mapred.FileInputFormat: Total input paths to process : 2\n",
      "20/01/26 15:36:05 INFO mapreduce.JobSubmitter: number of splits:2\n",
      "20/01/26 15:36:06 INFO mapreduce.JobSubmitter: Submitting tokens for job: job_1579903014542_0031\n",
      "20/01/26 15:36:06 INFO impl.YarnClientImpl: Submitted application application_1579903014542_0031\n",
      "20/01/26 15:36:06 INFO mapreduce.Job: The url to track the job: http://docker.w261:8088/proxy/application_1579903014542_0031/\n",
      "20/01/26 15:36:06 INFO mapreduce.Job: Running job: job_1579903014542_0031\n",
      "20/01/26 15:36:13 INFO mapreduce.Job: Job job_1579903014542_0031 running in uber mode : false\n",
      "20/01/26 15:36:13 INFO mapreduce.Job:  map 0% reduce 0%\n",
      "20/01/26 15:36:20 INFO mapreduce.Job:  map 50% reduce 0%\n",
      "20/01/26 15:36:21 INFO mapreduce.Job:  map 100% reduce 0%\n",
      "20/01/26 15:36:28 INFO mapreduce.Job:  map 100% reduce 50%\n",
      "20/01/26 15:36:29 INFO mapreduce.Job:  map 100% reduce 100%\n",
      "20/01/26 15:36:29 INFO mapreduce.Job: Job job_1579903014542_0031 completed successfully\n",
      "20/01/26 15:36:29 INFO mapreduce.Job: Counters: 50\n",
      "\tFile System Counters\n",
      "\t\tFILE: Number of bytes read=149575\n",
      "\t\tFILE: Number of bytes written=893620\n",
      "\t\tFILE: Number of read operations=0\n",
      "\t\tFILE: Number of large read operations=0\n",
      "\t\tFILE: Number of write operations=0\n",
      "\t\tHDFS: Number of bytes read=119411\n",
      "\t\tHDFS: Number of bytes written=129303\n",
      "\t\tHDFS: Number of read operations=12\n",
      "\t\tHDFS: Number of large read operations=0\n",
      "\t\tHDFS: Number of write operations=4\n",
      "\tJob Counters \n",
      "\t\tKilled reduce tasks=1\n",
      "\t\tLaunched map tasks=2\n",
      "\t\tLaunched reduce tasks=2\n",
      "\t\tData-local map tasks=2\n",
      "\t\tTotal time spent by all maps in occupied slots (ms)=10477\n",
      "\t\tTotal time spent by all reduces in occupied slots (ms)=10057\n",
      "\t\tTotal time spent by all map tasks (ms)=10477\n",
      "\t\tTotal time spent by all reduce tasks (ms)=10057\n",
      "\t\tTotal vcore-milliseconds taken by all map tasks=10477\n",
      "\t\tTotal vcore-milliseconds taken by all reduce tasks=10057\n",
      "\t\tTotal megabyte-milliseconds taken by all map tasks=10728448\n",
      "\t\tTotal megabyte-milliseconds taken by all reduce tasks=10298368\n",
      "\tMap-Reduce Framework\n",
      "\t\tMap input records=10130\n",
      "\t\tMap output records=10130\n",
      "\t\tMap output bytes=129303\n",
      "\t\tMap output materialized bytes=149587\n",
      "\t\tInput split bytes=238\n",
      "\t\tCombine input records=0\n",
      "\t\tCombine output records=0\n",
      "\t\tReduce input groups=10130\n",
      "\t\tReduce shuffle bytes=149587\n",
      "\t\tReduce input records=10130\n",
      "\t\tReduce output records=10130\n",
      "\t\tSpilled Records=20260\n",
      "\t\tShuffled Maps =4\n",
      "\t\tFailed Shuffles=0\n",
      "\t\tMerged Map outputs=4\n",
      "\t\tGC time elapsed (ms)=266\n",
      "\t\tCPU time spent (ms)=7900\n",
      "\t\tPhysical memory (bytes) snapshot=1084944384\n",
      "\t\tVirtual memory (bytes) snapshot=5495418880\n",
      "\t\tTotal committed heap usage (bytes)=1195376640\n",
      "\tShuffle Errors\n",
      "\t\tBAD_ID=0\n",
      "\t\tCONNECTION=0\n",
      "\t\tIO_ERROR=0\n",
      "\t\tWRONG_LENGTH=0\n",
      "\t\tWRONG_MAP=0\n",
      "\t\tWRONG_REDUCE=0\n",
      "\tFile Input Format Counters \n",
      "\t\tBytes Read=119173\n",
      "\tFile Output Format Counters \n",
      "\t\tBytes Written=129303\n",
      "20/01/26 15:36:29 INFO streaming.StreamJob: Output directory: /user/root/HW2/eda-sort-output\n"
     ]
    }
   ],
   "source": [
    "# part d - write your Hadoop streaming job here\n",
    "!hdfs dfs -rm -r {HDFS_DIR}/eda-sort-output\n",
    "!hadoop jar {JAR_FILE} \\\n",
    "  -D stream.num.map.output.key.fields=3 \\\n",
    "  -D mapreduce.job.output.key.comparator.class=org.apache.hadoop.mapred.lib.KeyFieldBasedComparator \\\n",
    "  -D mapreduce.partition.keycomparator.options=\"-k2,2nr -k3,3nr\" \\\n",
    "  -mapper /bin/cat \\\n",
    "  -reducer /bin/cat \\\n",
    "  -partitioner org.apache.hadoop.mapred.lib.KeyFieldBasedPartitioner \\\n",
    "  -input {HDFS_DIR}/eda-output \\\n",
    "  -output {HDFS_DIR}/eda-sort-output \\\n",
    "  -numReduceTasks 2 \\\n",
    "  -cmdenv PATH={PATH}"
   ]
  },
  {
   "cell_type": "code",
   "execution_count": 50,
   "metadata": {},
   "outputs": [
    {
     "name": "stdout",
     "output_type": "stream",
     "text": [
      "\n",
      "===== part-00000=====\n",
      "\n",
      "and\t1\t392\t\n",
      "a\t1\t347\t\n",
      "you\t1\t345\t\n",
      "of\t1\t336\t\n",
      "for\t1\t204\t\n",
      "it\t1\t152\t\n",
      "that\t1\t145\t\n",
      "on\t1\t136\t\n",
      "is\t1\t135\t\n",
      "will\t1\t102\t\n",
      "cat: Unable to write to output stream.\n",
      "\n",
      "===== part-00001=====\n",
      "\n",
      "the\t1\t698\t\n",
      "to\t1\t566\t\n",
      "your\t1\t357\t\n",
      "in\t1\t236\t\n",
      "com\t1\t153\t\n",
      "this\t1\t143\t\n",
      "i\t1\t140\t\n",
      "or\t1\t117\t\n",
      "we\t1\t116\t\n",
      "with\t1\t116\t\n",
      "cat: Unable to write to output stream.\n"
     ]
    }
   ],
   "source": [
    "# part d - view the top 10 records from each partition (RUN THIS CELL AS IS)\n",
    "for idx in range(2):\n",
    "    print(f\"\\n===== part-0000{idx}=====\\n\")\n",
    "    !hdfs dfs -cat {HDFS_DIR}/eda-sort-output/part-0000{idx} | head"
   ]
  },
  {
   "cell_type": "code",
   "execution_count": null,
   "metadata": {},
   "outputs": [],
   "source": [
    "# part e - clear the output directory in HDFS (RUN THIS CELL AS IS)\n",
    "!hdfs dfs -rm -r {HDFS_DIR}/eda-sort-output"
   ]
  },
  {
   "cell_type": "code",
   "execution_count": 44,
   "metadata": {},
   "outputs": [
    {
     "name": "stdout",
     "output_type": "stream",
     "text": [
      "Deleted /user/root/HW2/eda-sort-output\n",
      "packageJobJar: [] [/usr/lib/hadoop-mapreduce/hadoop-streaming-2.6.0-cdh5.16.2.jar] /tmp/streamjob3006420551311855225.jar tmpDir=null\n",
      "20/01/26 15:31:09 INFO client.RMProxy: Connecting to ResourceManager at /0.0.0.0:8032\n",
      "20/01/26 15:31:10 INFO client.RMProxy: Connecting to ResourceManager at /0.0.0.0:8032\n",
      "20/01/26 15:31:10 INFO mapred.FileInputFormat: Total input paths to process : 2\n",
      "20/01/26 15:31:10 INFO mapreduce.JobSubmitter: number of splits:2\n",
      "20/01/26 15:31:11 INFO mapreduce.JobSubmitter: Submitting tokens for job: job_1579903014542_0029\n",
      "20/01/26 15:31:11 INFO impl.YarnClientImpl: Submitted application application_1579903014542_0029\n",
      "20/01/26 15:31:11 INFO mapreduce.Job: The url to track the job: http://docker.w261:8088/proxy/application_1579903014542_0029/\n",
      "20/01/26 15:31:11 INFO mapreduce.Job: Running job: job_1579903014542_0029\n",
      "20/01/26 15:31:19 INFO mapreduce.Job: Job job_1579903014542_0029 running in uber mode : false\n",
      "20/01/26 15:31:19 INFO mapreduce.Job:  map 0% reduce 0%\n",
      "20/01/26 15:31:27 INFO mapreduce.Job:  map 100% reduce 0%\n",
      "20/01/26 15:31:34 INFO mapreduce.Job:  map 100% reduce 50%\n",
      "20/01/26 15:31:35 INFO mapreduce.Job:  map 100% reduce 100%\n",
      "20/01/26 15:31:36 INFO mapreduce.Job: Job job_1579903014542_0029 completed successfully\n",
      "20/01/26 15:31:36 INFO mapreduce.Job: Counters: 50\n",
      "\tFile System Counters\n",
      "\t\tFILE: Number of bytes read=149575\n",
      "\t\tFILE: Number of bytes written=894304\n",
      "\t\tFILE: Number of read operations=0\n",
      "\t\tFILE: Number of large read operations=0\n",
      "\t\tFILE: Number of write operations=0\n",
      "\t\tHDFS: Number of bytes read=119411\n",
      "\t\tHDFS: Number of bytes written=129303\n",
      "\t\tHDFS: Number of read operations=12\n",
      "\t\tHDFS: Number of large read operations=0\n",
      "\t\tHDFS: Number of write operations=4\n",
      "\tJob Counters \n",
      "\t\tKilled reduce tasks=1\n",
      "\t\tLaunched map tasks=2\n",
      "\t\tLaunched reduce tasks=2\n",
      "\t\tData-local map tasks=2\n",
      "\t\tTotal time spent by all maps in occupied slots (ms)=9849\n",
      "\t\tTotal time spent by all reduces in occupied slots (ms)=9573\n",
      "\t\tTotal time spent by all map tasks (ms)=9849\n",
      "\t\tTotal time spent by all reduce tasks (ms)=9573\n",
      "\t\tTotal vcore-milliseconds taken by all map tasks=9849\n",
      "\t\tTotal vcore-milliseconds taken by all reduce tasks=9573\n",
      "\t\tTotal megabyte-milliseconds taken by all map tasks=10085376\n",
      "\t\tTotal megabyte-milliseconds taken by all reduce tasks=9802752\n",
      "\tMap-Reduce Framework\n",
      "\t\tMap input records=10130\n",
      "\t\tMap output records=10130\n",
      "\t\tMap output bytes=129303\n",
      "\t\tMap output materialized bytes=149587\n",
      "\t\tInput split bytes=238\n",
      "\t\tCombine input records=0\n",
      "\t\tCombine output records=0\n",
      "\t\tReduce input groups=10130\n",
      "\t\tReduce shuffle bytes=149587\n",
      "\t\tReduce input records=10130\n",
      "\t\tReduce output records=10130\n",
      "\t\tSpilled Records=20260\n",
      "\t\tShuffled Maps =4\n",
      "\t\tFailed Shuffles=0\n",
      "\t\tMerged Map outputs=4\n",
      "\t\tGC time elapsed (ms)=263\n",
      "\t\tCPU time spent (ms)=7530\n",
      "\t\tPhysical memory (bytes) snapshot=1093324800\n",
      "\t\tVirtual memory (bytes) snapshot=5495746560\n",
      "\t\tTotal committed heap usage (bytes)=1195376640\n",
      "\tShuffle Errors\n",
      "\t\tBAD_ID=0\n",
      "\t\tCONNECTION=0\n",
      "\t\tIO_ERROR=0\n",
      "\t\tWRONG_LENGTH=0\n",
      "\t\tWRONG_MAP=0\n",
      "\t\tWRONG_REDUCE=0\n",
      "\tFile Input Format Counters \n",
      "\t\tBytes Read=119173\n",
      "\tFile Output Format Counters \n",
      "\t\tBytes Written=129303\n",
      "20/01/26 15:31:36 INFO streaming.StreamJob: Output directory: /user/root/HW2/eda-sort-output\n"
     ]
    }
   ],
   "source": [
    "# part e - write your Hadoop streaming job here\n",
    "!hdfs dfs -rm -r {HDFS_DIR}/eda-sort-output\n",
    "!hadoop jar {JAR_FILE} \\\n",
    "  -D stream.num.map.output.key.fields=3 \\\n",
    "  -D mapreduce.job.output.key.comparator.class=org.apache.hadoop.mapred.lib.KeyFieldBasedComparator \\\n",
    "  -D mapreduce.partition.keycomparator.options=\"-k3,3nr\" \\\n",
    "  -D mapreduce.partition.keypartitioner.options=\"-k2,2\" \\\n",
    "  -mapper /bin/cat \\\n",
    "  -reducer /bin/cat \\\n",
    "  -partitioner org.apache.hadoop.mapred.lib.KeyFieldBasedPartitioner \\\n",
    "  -input {HDFS_DIR}/eda-output \\\n",
    "  -output {HDFS_DIR}/eda-sort-output \\\n",
    "  -numReduceTasks 2 \\\n",
    "  -cmdenv PATH={PATH}"
   ]
  },
  {
   "cell_type": "code",
   "execution_count": 45,
   "metadata": {},
   "outputs": [
    {
     "name": "stdout",
     "output_type": "stream",
     "text": [
      "\n",
      "===== part-00000=====\n",
      "\n",
      "the\t0\t549\t\n",
      "to\t0\t398\t\n",
      "ect\t0\t382\t\n",
      "and\t0\t278\t\n",
      "of\t0\t230\t\n",
      "hou\t0\t206\t\n",
      "a\t0\t196\t\n",
      "in\t0\t182\t\n",
      "for\t0\t170\t\n",
      "on\t0\t135\t\n",
      "cat: Unable to write to output stream.\n",
      "\n",
      "===== part-00001=====\n",
      "\n",
      "the\t1\t698\t\n",
      "to\t1\t566\t\n",
      "and\t1\t392\t\n",
      "your\t1\t357\t\n",
      "a\t1\t347\t\n",
      "you\t1\t345\t\n",
      "of\t1\t336\t\n",
      "in\t1\t236\t\n",
      "for\t1\t204\t\n",
      "com\t1\t153\t\n",
      "cat: Unable to write to output stream.\n"
     ]
    }
   ],
   "source": [
    "# part e - view the top 10 records from each partition (RUN THIS CELL AS IS)\n",
    "for idx in range(2):\n",
    "    print(f\"\\n===== part-0000{idx}=====\\n\")\n",
    "    !hdfs dfs -cat {HDFS_DIR}/eda-sort-output/part-0000{idx} | head"
   ]
  },
  {
   "cell_type": "markdown",
   "metadata": {},
   "source": [
    "__Expected output:__\n",
    "<table>\n",
    "<th>part-00000:</th>\n",
    "<th>part-00001:</th>\n",
    "<tr><td><pre>\n",
    "the\t0\t549\t\n",
    "to\t0\t398\t\n",
    "ect\t0\t382\t\n",
    "and\t0\t278\t\n",
    "of\t0\t230\t\n",
    "hou\t0\t206\t\n",
    "a\t0\t196\t\n",
    "in\t0\t182\t\n",
    "for\t0\t170\t\n",
    "on\t0\t135\n",
    "</pre></td>\n",
    "<td><pre>\n",
    "the\t1\t698\t\n",
    "to\t1\t566\t\n",
    "and\t1\t392\t\n",
    "your\t1\t357\t\n",
    "a\t1\t347\t\n",
    "you\t1\t345\t\n",
    "of\t1\t336\t\n",
    "in\t1\t236\t\n",
    "for\t1\t204\t\n",
    "com\t1\t153\n",
    "</pre></td></tr>\n",
    "</table>"
   ]
  },
  {
   "cell_type": "markdown",
   "metadata": {},
   "source": [
    "# Question 5: Counters and Combiners.\n",
    "Tuning the number of mappers & reducers is helpful to optimize very large distributed computations. Doing so successfully requires a thorough understanding of the data size at each stage of the job. As you learned in the week3 live session, counters are an invaluable resource for understanding this kind of detail. In this question, we will take the EDA performed in Question 4 as an opportunity to illustrate some related concepts.\n",
    "\n",
    "### Q5 Tasks:\n",
    "* __a) short response:__ Read the Hadoop output from your job in Question 4a to report how many records are emitted by the mappers and how many records are received be the reducers. In the context of word counting what does this number represent practically?\n",
    "\n",
    "* __b) code:__ Note that we wrote the reducer in question 4a such that the input and output record format is identical. This makes it easy to use the same reducer script as a combiner. In the space provided below, write the Hadoop Streaming command to re-run your job from question 4a with this combining added.\n",
    "\n",
    "* __c) short response__: Report the number of records emitted by your mappers in part b and the number of records received by your reducers. Compare your results here to what you saw in part a. Explain.\n",
    "\n",
    "* __d) short response__: Describe a scenario where using a combiner would _NOT_ improve the efficiency of the shuffle stage. Explain. [__`BONUS:`__ how does increasing the number of mappers affect the usefulness of a combiner?]"
   ]
  },
  {
   "cell_type": "markdown",
   "metadata": {},
   "source": [
    "### Q5 Student Answers:\n",
    "> __a)__   \n",
    "\n",
    "__how many records are emitted by the mappers__\n",
    "Map output records=31490\n",
    "__how many records are received be the reducers__\n",
    "Reduce input records=31490\n",
    "__In the context of word counting what does this number represent practically?__\n",
    "in the context of our use case this number represents total number of words in our source data, in our case title and body.\n",
    "\n",
    "> __c)__ \n",
    "\n",
    "__how many records are emitted by the mappers__\n",
    "Map output records=31490\n",
    "__how many records are received be the reducers__\n",
    "Reduce input records=13096\n",
    "__Compare your results here to what you saw in part a. Explain.__\n",
    "A reduce task has been applied on the output of each mapper decreasing the size of the data that had to be moved towards the reducer. In this specific case we can see a significant reduction.\n",
    "\n",
    "4a\n",
    "Reduce output records=10130\n",
    "5b\n",
    "Reduce output records=10130\n",
    "\n",
    "> __d)__ \n",
    "\n",
    "__Describe a scenario where using a combiner would NOT improve the efficiency of the shuffle stage. Explain.__\n",
    "- Combiner can be used just in case the reduce function is both commutative and associative. It's because values are combined locally before shuffle in arbitrary order.\n",
    "- Combiner is unlikely to increase efficiency in cases where map is generating low number of outputs against the same key.\n",
    "\n",
    "__how does increasing the number of mappers affect the usefulness of a combiner?__\n",
    "\n",
    "Combiner is advised in case your map is generating very large number of output against the same key.\n",
    "\n",
    "with increased number of mappers there is a higher likelihood that the records, in particular where the records do not have high counts, will be distributed across multiple mappers and therefore lowering the effectiveness of the combiner.\n",
    "However, in cases where the counts would be high / repetition of the same word is high the combiners can provide significant performance benefits.\n"
   ]
  },
  {
   "cell_type": "code",
   "execution_count": 51,
   "metadata": {},
   "outputs": [
    {
     "name": "stdout",
     "output_type": "stream",
     "text": [
      "Deleted /user/root/HW2/eda-output\n"
     ]
    }
   ],
   "source": [
    "# part b - clear output directory in HDFS (RUN THIS CELL AS IS)\n",
    "!hdfs dfs -rm -r {HDFS_DIR}/eda-output"
   ]
  },
  {
   "cell_type": "code",
   "execution_count": 52,
   "metadata": {},
   "outputs": [
    {
     "name": "stdout",
     "output_type": "stream",
     "text": [
      "rm: `/user/root/HW2/eda-output': No such file or directory\n",
      "packageJobJar: [] [/usr/lib/hadoop-mapreduce/hadoop-streaming-2.6.0-cdh5.16.2.jar] /tmp/streamjob7714014552601817502.jar tmpDir=null\n",
      "20/01/26 16:26:06 INFO client.RMProxy: Connecting to ResourceManager at /0.0.0.0:8032\n",
      "20/01/26 16:26:07 INFO client.RMProxy: Connecting to ResourceManager at /0.0.0.0:8032\n",
      "20/01/26 16:26:07 INFO mapred.FileInputFormat: Total input paths to process : 1\n",
      "20/01/26 16:26:07 INFO mapreduce.JobSubmitter: number of splits:2\n",
      "20/01/26 16:26:08 INFO mapreduce.JobSubmitter: Submitting tokens for job: job_1579903014542_0032\n",
      "20/01/26 16:26:08 INFO impl.YarnClientImpl: Submitted application application_1579903014542_0032\n",
      "20/01/26 16:26:08 INFO mapreduce.Job: The url to track the job: http://docker.w261:8088/proxy/application_1579903014542_0032/\n",
      "20/01/26 16:26:08 INFO mapreduce.Job: Running job: job_1579903014542_0032\n",
      "20/01/26 16:26:15 INFO mapreduce.Job: Job job_1579903014542_0032 running in uber mode : false\n",
      "20/01/26 16:26:15 INFO mapreduce.Job:  map 0% reduce 0%\n",
      "20/01/26 16:26:23 INFO mapreduce.Job:  map 50% reduce 0%\n",
      "20/01/26 16:26:24 INFO mapreduce.Job:  map 100% reduce 0%\n",
      "20/01/26 16:26:31 INFO mapreduce.Job:  map 100% reduce 50%\n",
      "20/01/26 16:26:32 INFO mapreduce.Job:  map 100% reduce 100%\n",
      "20/01/26 16:26:32 INFO mapreduce.Job: Job job_1579903014542_0032 completed successfully\n",
      "20/01/26 16:26:32 INFO mapreduce.Job: Counters: 50\n",
      "\tFile System Counters\n",
      "\t\tFILE: Number of bytes read=177959\n",
      "\t\tFILE: Number of bytes written=954952\n",
      "\t\tFILE: Number of read operations=0\n",
      "\t\tFILE: Number of large read operations=0\n",
      "\t\tFILE: Number of write operations=0\n",
      "\t\tHDFS: Number of bytes read=217061\n",
      "\t\tHDFS: Number of bytes written=119173\n",
      "\t\tHDFS: Number of read operations=12\n",
      "\t\tHDFS: Number of large read operations=0\n",
      "\t\tHDFS: Number of write operations=4\n",
      "\tJob Counters \n",
      "\t\tKilled reduce tasks=1\n",
      "\t\tLaunched map tasks=2\n",
      "\t\tLaunched reduce tasks=2\n",
      "\t\tData-local map tasks=2\n",
      "\t\tTotal time spent by all maps in occupied slots (ms)=10068\n",
      "\t\tTotal time spent by all reduces in occupied slots (ms)=10159\n",
      "\t\tTotal time spent by all map tasks (ms)=10068\n",
      "\t\tTotal time spent by all reduce tasks (ms)=10159\n",
      "\t\tTotal vcore-milliseconds taken by all map tasks=10068\n",
      "\t\tTotal vcore-milliseconds taken by all reduce tasks=10159\n",
      "\t\tTotal megabyte-milliseconds taken by all map tasks=10309632\n",
      "\t\tTotal megabyte-milliseconds taken by all reduce tasks=10402816\n",
      "\tMap-Reduce Framework\n",
      "\t\tMap input records=100\n",
      "\t\tMap output records=31490\n",
      "\t\tMap output bytes=306018\n",
      "\t\tMap output materialized bytes=177971\n",
      "\t\tInput split bytes=214\n",
      "\t\tCombine input records=31490\n",
      "\t\tCombine output records=13096\n",
      "\t\tReduce input groups=5065\n",
      "\t\tReduce shuffle bytes=177971\n",
      "\t\tReduce input records=13096\n",
      "\t\tReduce output records=10130\n",
      "\t\tSpilled Records=26192\n",
      "\t\tShuffled Maps =4\n",
      "\t\tFailed Shuffles=0\n",
      "\t\tMerged Map outputs=4\n",
      "\t\tGC time elapsed (ms)=293\n",
      "\t\tCPU time spent (ms)=8610\n",
      "\t\tPhysical memory (bytes) snapshot=1147183104\n",
      "\t\tVirtual memory (bytes) snapshot=5500104704\n",
      "\t\tTotal committed heap usage (bytes)=1195376640\n",
      "\tShuffle Errors\n",
      "\t\tBAD_ID=0\n",
      "\t\tCONNECTION=0\n",
      "\t\tIO_ERROR=0\n",
      "\t\tWRONG_LENGTH=0\n",
      "\t\tWRONG_MAP=0\n",
      "\t\tWRONG_REDUCE=0\n",
      "\tFile Input Format Counters \n",
      "\t\tBytes Read=216847\n",
      "\tFile Output Format Counters \n",
      "\t\tBytes Written=119173\n",
      "20/01/26 16:26:32 INFO streaming.StreamJob: Output directory: /user/root/HW2/eda-output\n"
     ]
    }
   ],
   "source": [
    "# part b - write your Hadoop streaming job here\n",
    "!hdfs dfs -rm -r {HDFS_DIR}/eda-output\n",
    "!hadoop jar {JAR_FILE} \\\n",
    "  -files EnronEDA/reducer.py,EnronEDA/mapper.py \\\n",
    "  -mapper mapper.py \\\n",
    "  -combiner reducer.py \\\n",
    "  -reducer reducer.py \\\n",
    "  -input {HDFS_DIR}/enron.txt \\\n",
    "  -output {HDFS_DIR}/eda-output \\\n",
    "  -numReduceTasks 2 \\\n",
    "  -cmdenv PATH={PATH}"
   ]
  },
  {
   "cell_type": "markdown",
   "metadata": {},
   "source": [
    "# Question 6: Document Classification Task Overview.\n",
    "The week 2 assigned reading from Chapter 13 of _Introduction to Information Retrieval_ by Manning, Raghavan and Schutze provides a thorough introduction to the document classification task and the math behind Naive Bayes. In this question we'll use the example from Table 13.1 (reproduced below) to 'train' an unsmoothed Multinomial Naive Bayes model and classify a test document by hand.\n",
    "\n",
    "<table>\n",
    "<th>DocID</th>\n",
    "<th>Class</th>\n",
    "<th>Subject</th>\n",
    "<th>Body</th>\n",
    "<tr><td>Doc1</td><td>1</td><td></td><td>Chinese Beijing Chinese</td></tr>\n",
    "<tr><td>Doc2</td><td>1</td><td></td><td>Chinese Chinese Shanghai</td></tr>\n",
    "<tr><td>Doc3</td><td>1</td><td></td><td>Chinese Macao</td></tr>\n",
    "<tr><td>Doc4</td><td>0</td><td></td><td>Tokyo Japan Chinese</td></tr>\n",
    "</table>\n",
    "\n",
    "### Q6 Tasks:\n",
    "* __a) short response:__ Equation 13.3 in Manning, Raghavan and Shutze shows how a Multinomial Naive Bayes model classifies a document. It predicts the class, $c$, for which the estimated conditional probability of the class given the document's contents,  $\\hat{P}(c|d)$, is greatest. In this equation what two pieces of information are required to calculate  $\\hat{P}(c|d)$? Your answer should include both mathematical notatation and verbal explanation.\n",
    "\n",
    "\n",
    "* __b) short response:__ The Enron data includes two classes of documents: `spam` and `ham` (they're actually labeled `1` and `0`). In plain English, explain what  $\\hat{P}(c)$ and   $\\hat{P}(t_{k} | c)$ mean in the context of this data. How will we would estimate these values from a training corpus? How many passes over the data would we need to make to retrieve this information for all classes and all words?\n",
    "\n",
    "\n",
    "* __c) hand calculations:__ Above we've reproduced the document classification example from the textbook (we added an empty subject field to mimic the Enron data format). Remember that the classes in this \"Chinese Example\" are `1` (about China) and `0` (not about China). Calculate the class priors and the conditional probabilities for an __unsmoothed__ Multinomial Naive Bayes model trained on this data. Show the calculations that lead to your result using markdown and $\\LaTeX$ in the space provided or by embedding an image of your hand written work. [`NOTE:` _Your results should NOT match those in the text -- they are training a model with +1 smoothing you are training a model without smoothing_]\n",
    "\n",
    "\n",
    "* __d) hand calculations:__ Use the model you trained to classify the following test document: `Chinese Chinese Chinese Tokyo Japan`. Show the calculations that lead to your result using markdown and   $\\LaTeX$ in the space provided or by embedding an image of your hand written work.\n",
    "\n",
    "\n",
    "* __e) short response:__ Compare the classification you get from this unsmoothed model in `d`/`e` to the results in the textbook's \"Example 1\" which reflects a model with Laplace plus 1 smoothing. How does smoothing affect our inference?"
   ]
  },
  {
   "cell_type": "markdown",
   "metadata": {},
   "source": [
    "### Q6 Student Answers:\n",
    "> __a)__ \n",
    "\n",
    "__In this equation what two pieces of information are required to calculate  $\\hat{P}(c|d)$?__\n",
    "- mathematical notation and \\\n",
    "1.$\\hat{P}(c)$ \\\n",
    "2. $\\hat{P}(t_{k} | c)$  \n",
    "\n",
    "- verbal explanation \\\n",
    "  1. prior probability of a document occurring in a class\n",
    "  2. we need conditional probability of term 'word' occurring in a document of a particular class  \\\n",
    "\n",
    "\n",
    "> __b)__ \n",
    "\n",
    "explain what  $\\hat{P}(c)$ and   $\\hat{P}(t_{k} | c)$ mean in the context of this data.\n",
    "- $\\hat{P}(c)$ - overall probability of a case being 'chinese'\n",
    "- $\\hat{P}(t_{k} | c)$ probability of a word occurring in the class 'chinese'\n",
    "\n",
    "> __c)__ Show your calculations here using markdown & $\\LaTeX$ or embed them below!\n",
    "\n",
    "__Priors__ \\\n",
    "$P(c) = \\frac{3}{4}$ \\\n",
    "$P(c') = \\frac{1}{4}$ \\\n",
    "__Conditional__ \n",
    "- about China \\\n",
    "$\\hat{P}(Chinese| c) = \\frac{5}{8} $ \\\n",
    "$\\hat{P}(Tokyo | c) = \\hat{P}(Japan | c) = \\frac{0}{8}  $ \n",
    "- Not about China \\\n",
    "$\\hat{P}(Chinese| c') = \\frac{1}{3} $ \\\n",
    "$\\hat{P}(Tokyo | c') = \\hat{P}(Japan | c') = \\frac{1}{3}  $  \n",
    "\n",
    "> __d)__ Show your calculations here using markdown & $\\LaTeX$ or embed them below!\n",
    "\n",
    "$\\hat{P}(c | d5)  \\;\\alpha  \\;\\frac{3}{4} \\;\\times \\;(\\frac{5}{8})^{3} \\;\\times \\frac{0}{8} \\;\\times \\frac{0}{8} \\approx 0$\n",
    "\n",
    "\n",
    "$\\hat{P}(c' | d5)  \\;\\alpha  \\;\\frac{1}{4} \\;\\times \\;(\\frac{1}{3})^{3} \\;\\times \\frac{1}{3} \\;\\times \\frac{1}{3} \\approx 0.001028$\n",
    "\n",
    "\n",
    "> __e)__ \n",
    "\n",
    "__How does smoothing affect our inference?__\n",
    "makes our classifications less sensitve to rare words\n"
   ]
  },
  {
   "cell_type": "code",
   "execution_count": null,
   "metadata": {},
   "outputs": [],
   "source": [
    "# part d/e - if you didn't write out your calcuations above, embed a picture of them here:\n",
    "from IPython.display import Image\n",
    "Image(filename=\"path-to-hand-calulations-image.png\")"
   ]
  },
  {
   "cell_type": "markdown",
   "metadata": {},
   "source": [
    "# Question 7: Naive Bayes Inference.\n",
    "In the next two questions you'll write code to parallelize the Naive Bayes calculations that you performed above. We'll do this in two phases: one MapReduce job to perform training and a second MapReduce to perform inference. While in practice we'd need to train a model before we can use it to classify documents, for learning purposes we're going to develop our code in the opposite order. By first focusing on the pieces of information/format we need to perform the classification (inference) task you should find it easier to develop a solid implementation for training phase when you get to question 8 below. In both of these questions we'll continue to use the Chinese example corpus from the textbook to help us test our MapReduce code as we develop it. Below we've reproduced the corpus, test set and model in text format that matches the Enron data.\n",
    "\n",
    "### Q7 Tasks:\n",
    "* __a) short response:__ run the provided cells to create the example files and load them in to HDFS. Then take a closer look at __`NBmodel.txt`__. This text file represents a Naive Bayes model trained (with Laplace +1 smoothing) on the example corpus. What are the 'keys' and 'values' in this file? Which record means something slightly different than the rest? The value field of each record includes two numbers which will be helpful for debugging but which we don't actually need to perform inference -- what are they? [`HINT`: _This file represents the model from Example 13.1 in the textbook, if you're having trouble getting oriented try comparing our file to the numbers in that example._]\n",
    "\n",
    "\n",
    "* __b) short response:__ When performing Naive Bayes in practice instead of multiplying the probabilities (as in equation 13.3) we add their logs (as in equation 13.4). Why do we choose to work with log probabilities? If we had an unsmoothed model, what potential error could arise from this transformation?\n",
    "\n",
    "\n",
    "* __c) short response:__ Documents 6 and 8 in the test set include a word that did not appear in the training corpus (and as a result does not appear in the model). What should we do at inference time when we need a class conditional probability for this word?\n",
    "\n",
    "\n",
    "* __d) short response:__ The goal of our MapReduce job is to stream over the test set and classify each document by peforming the calculation from equation 13.4. To do this we'll load the model file (which contains the probabilities for equation 13.4) into memory on the nodes where we do our mapping. This is called an in-memory join. Does loading a model 'state' like this depart from the functional programming principles? Explain why or why not. From a scability perspective when would this kind of memory use be justified? when would it be unwise?\n",
    "\n",
    "\n",
    "* __e) code:__ Complete the code in __`NaiveBayes/classify_mapper.py`__. Read the docstring carefully to understand how this script should work and the format it should return. Run the provided unit tests to confirm that your script works as expected then write a Hadoop streaming job to classify the Chinese example test set. [`HINT 1:` _you shouldn't need a reducer for this one._ `HINT 2:` _Don't forget to add the model file to the_ `-files` _parameter in your Hadoop streaming job so that it gets shipped to the mapper nodes where it will be accessed by your script._]\n",
    "\n",
    "\n",
    "* __f) short response:__ In our test example and in the Enron data set we have fairly short documents. Since these fit fine in memory on a mapper node we didn't need a reducer and could just do all of our calculations in the mapper. However with much longer documents (eg. books) we might want a higher level of parallelization -- for example we might want to process parts of a document on different nodes. In this hypothetical scenario how would our algorithm design change? What could the mappers still do? What key-value structure would they emit? What would the reducers have to do as a last step?"
   ]
  },
  {
   "cell_type": "markdown",
   "metadata": {},
   "source": [
    "### Q7 Student Answers:\n",
    "> __a)__ \n",
    "\n",
    "__What are the 'keys' and 'values' in this file?__\n",
    "- keys - cities & ClassPriors\n",
    "- values - count of city in the doc class 'not about china' , count of city in the doc class 'about china' , conditional probability of not about china, conditional probability of about china\n",
    "\n",
    "__Which record means something slightly different than the rest?__ \n",
    "ClassPriors - prior probability of a doc being about or not about China\n",
    "\n",
    "__The value field of each record includes two numbers which will be helpful for debugging but which we don't actually need to perform inference -- what are they?__\n",
    "- count of city in the doc class 'not about china'\n",
    "- count of city in the doc class 'about china'\n",
    "\n",
    "> __b)__ \n",
    "\n",
    "__Why do we choose to work with log probabilities?__\n",
    "to avoid floating point underflow - a condition in a computer program where the result of a calculation is a number of smaller absolute value than the computer can actually represent in memory on its central processing unit (CPU)\n",
    "\n",
    "__If we had an unsmoothed model, what potential error could arise from this transformation?__\n",
    "the conditional probabillity is 0. A log of zero does not exist.\n",
    "\n",
    "> __c)__\n",
    "\n",
    "__What should we do at inference time when we need a class conditional probability for this word?__\n",
    "I choose to set the probability to 1. log of one equals 0. As i know i will be adding all conditinal probabilities this should enable me get pass the limitation and not have adverse effect on the accuracy of the prediction.\n",
    "\n",
    "> __d)__\n",
    "\n",
    "__Does loading a model 'state' like this depart from the functional programming principles? Explain why or why not.__\n",
    "Not really. We are using an object but we are not changing the actual state or modifying it in any way.\n",
    "\n",
    "__From a scability perspective when would this kind of memory use be justified? when would it be unwise?__\n",
    "the difficulty would be if the model is too large to fit into the memory as this would be a scalability limitation. Other consideration is that we need to ship all the information to the mapper nodes across the network, however this  consideration is independent on how this data is then accessed within the mapper itself.\n",
    "\n",
    "> __e)__ Complete the coding portion of this question before answering 'f'.\n",
    "\n",
    "> __f)__\n",
    "\n",
    "__In this hypothetical scenario how would our algorithm design change?__ \n",
    "If we are unable to process everything within memory then we would have to add one additional step to aggregate the conditional probabilities. We would want to partition the mapper data and aggregate the probability in the reducer.\n",
    "\n",
    "__What could the mappers still do? What key-value structure would they emit?__ \n",
    "The mapper could emit one line summary for the entire partition. As these are log probabillities the reducer only needs to sum all of the individual partitions. The mapper woudl not be able to determine the predicted class though.\n",
    "\n",
    "__What would the reducers have to do as a last step?__\n",
    "aggregate the probability in the reducer and predict class."
   ]
  },
  {
   "cell_type": "markdown",
   "metadata": {},
   "source": [
    "Run these cells to create the example corpus and model."
   ]
  },
  {
   "cell_type": "code",
   "execution_count": 53,
   "metadata": {},
   "outputs": [
    {
     "name": "stdout",
     "output_type": "stream",
     "text": [
      "Writing NaiveBayes/chineseTrain.txt\n"
     ]
    }
   ],
   "source": [
    "%%writefile NaiveBayes/chineseTrain.txt\n",
    "D1\t1\t\tChinese Beijing Chinese\n",
    "D2\t1\t\tChinese Chinese Shanghai\n",
    "D3\t1\t\tChinese Macao\n",
    "D4\t0\t\tTokyo Japan Chinese"
   ]
  },
  {
   "cell_type": "code",
   "execution_count": 54,
   "metadata": {},
   "outputs": [
    {
     "name": "stdout",
     "output_type": "stream",
     "text": [
      "Writing NaiveBayes/chineseTest.txt\n"
     ]
    }
   ],
   "source": [
    "%%writefile NaiveBayes/chineseTest.txt\n",
    "D5\t1\t\tChinese Chinese Chinese Tokyo Japan\n",
    "D6\t1\t\tBeijing Shanghai Trade\n",
    "D7\t0\t\tJapan Macao Tokyo\n",
    "D8\t0\t\tTokyo Japan Trade"
   ]
  },
  {
   "cell_type": "code",
   "execution_count": 55,
   "metadata": {},
   "outputs": [
    {
     "name": "stdout",
     "output_type": "stream",
     "text": [
      "Writing NBmodel.txt\n"
     ]
    }
   ],
   "source": [
    "%%writefile NBmodel.txt\n",
    "beijing\t0.0,1.0,0.111111111111,0.142857142857\n",
    "chinese\t1.0,5.0,0.222222222222,0.428571428571\n",
    "tokyo\t1.0,0.0,0.222222222222,0.0714285714286\n",
    "shanghai\t0.0,1.0,0.111111111111,0.142857142857\n",
    "ClassPriors\t1.0,3.0,0.25,0.75\n",
    "japan\t1.0,0.0,0.222222222222,0.0714285714286\n",
    "macao\t0.0,1.0,0.111111111111,0.142857142857"
   ]
  },
  {
   "cell_type": "code",
   "execution_count": 89,
   "metadata": {},
   "outputs": [
    {
     "name": "stdout",
     "output_type": "stream",
     "text": [
      "copyFromLocal: `/user/root/HW2/chineseTrain.txt': File exists\n",
      "copyFromLocal: `/user/root/HW2/chineseTest.txt': File exists\n",
      "copyFromLocal: `/user/root/HW2/NBmodel.txt': File exists\n"
     ]
    }
   ],
   "source": [
    "# load the data files into HDFS\n",
    "!hdfs dfs -copyFromLocal NaiveBayes/chineseTrain.txt {HDFS_DIR}\n",
    "!hdfs dfs -copyFromLocal NaiveBayes/chineseTest.txt {HDFS_DIR}\n",
    "!hdfs dfs -copyFromLocal NBmodel.txt {HDFS_DIR}"
   ]
  },
  {
   "cell_type": "markdown",
   "metadata": {},
   "source": [
    "Your work for `part e` starts here:"
   ]
  },
  {
   "cell_type": "code",
   "execution_count": 92,
   "metadata": {},
   "outputs": [],
   "source": [
    "# part e - do your work in NaiveBayes/classify_mapper.py first, then run this cell.\n",
    "!chmod a+x NaiveBayes/classify_mapper.py\n",
    "!chmod a+x NBmodel.txt"
   ]
  },
  {
   "cell_type": "code",
   "execution_count": 381,
   "metadata": {},
   "outputs": [
    {
     "name": "stdout",
     "output_type": "stream",
     "text": [
      "d5  1  -8.90668134500626   -8.10769031284611   1\n",
      "d6  1  -5.780743515794329  -4.179502370564408  1\n",
      "d7  0  -6.591673732011658  -7.511706880737812  0\n",
      "d8  0  -4.394449154674438  -5.565796731681498  0\n"
     ]
    }
   ],
   "source": [
    "# part e - unit test NaiveBayes/classify_mapper.py (RUN THIS CELL AS IS)\n",
    "!cat NaiveBayes/chineseTest.txt | NaiveBayes/classify_mapper.py | column -t"
   ]
  },
  {
   "cell_type": "code",
   "execution_count": 375,
   "metadata": {},
   "outputs": [
    {
     "name": "stdout",
     "output_type": "stream",
     "text": [
      "{'beijing': (-2.197224577337219, -1.9459101490563133), 'chinese': (-1.504077396777274, -0.8472978603882036), 'tokyo': (-1.504077396777274, -2.6390573296148587), 'shanghai': (-2.197224577337219, -1.9459101490563133), 'ClassPriors': (-1.3862943611198906, -0.2876820724517809), 'japan': (-1.504077396777274, -2.6390573296148587), 'macao': (-2.197224577337219, -1.9459101490563133)}\n"
     ]
    }
   ],
   "source": [
    "MODEL = {}\n",
    "for record in open('NBmodel.txt', 'r').readlines():\n",
    "    word, payload = record.split('\\t')\n",
    "    # extract conditional probabilities\n",
    "    ham_cProb, spam_cProb = payload.split(',')[2:]\n",
    "    # save their logs as a tuple in our model dictionary\n",
    "    take_log = lambda x: np.log(x) if x != 0 else float(\"-inf\")\n",
    "    MODEL[word] = (take_log(float(ham_cProb)),\n",
    "                   take_log(float(spam_cProb)))\n",
    "print(MODEL)"
   ]
  },
  {
   "cell_type": "code",
   "execution_count": 81,
   "metadata": {},
   "outputs": [
    {
     "name": "stdout",
     "output_type": "stream",
     "text": [
      "Deleted /user/root/HW2/chinese-output\n"
     ]
    }
   ],
   "source": [
    "# part e - clear the output directory in HDFS (RUN THIS CELL AS IS)\n",
    "!hdfs dfs -rm -r {HDFS_DIR}/chinese-output"
   ]
  },
  {
   "cell_type": "code",
   "execution_count": 378,
   "metadata": {},
   "outputs": [
    {
     "name": "stdout",
     "output_type": "stream",
     "text": [
      "Deleted /user/root/HW2/chinese-output\n",
      "packageJobJar: [] [/usr/lib/hadoop-mapreduce/hadoop-streaming-2.6.0-cdh5.16.2.jar] /tmp/streamjob2071627984914102179.jar tmpDir=null\n",
      "20/01/30 22:03:37 INFO client.RMProxy: Connecting to ResourceManager at /0.0.0.0:8032\n",
      "20/01/30 22:03:37 INFO client.RMProxy: Connecting to ResourceManager at /0.0.0.0:8032\n",
      "20/01/30 22:03:38 INFO mapred.FileInputFormat: Total input paths to process : 1\n",
      "20/01/30 22:03:38 INFO mapreduce.JobSubmitter: number of splits:2\n",
      "20/01/30 22:03:38 INFO mapreduce.JobSubmitter: Submitting tokens for job: job_1579903014542_0098\n",
      "20/01/30 22:03:38 INFO impl.YarnClientImpl: Submitted application application_1579903014542_0098\n",
      "20/01/30 22:03:38 INFO mapreduce.Job: The url to track the job: http://docker.w261:8088/proxy/application_1579903014542_0098/\n",
      "20/01/30 22:03:38 INFO mapreduce.Job: Running job: job_1579903014542_0098\n",
      "20/01/30 22:03:46 INFO mapreduce.Job: Job job_1579903014542_0098 running in uber mode : false\n",
      "20/01/30 22:03:46 INFO mapreduce.Job:  map 0% reduce 0%\n",
      "20/01/30 22:03:53 INFO mapreduce.Job:  map 100% reduce 0%\n",
      "20/01/30 22:03:58 INFO mapreduce.Job:  map 100% reduce 100%\n",
      "20/01/30 22:03:58 INFO mapreduce.Job: Job job_1579903014542_0098 completed successfully\n",
      "20/01/30 22:03:58 INFO mapreduce.Job: Counters: 49\n",
      "\tFile System Counters\n",
      "\t\tFILE: Number of bytes read=192\n",
      "\t\tFILE: Number of bytes written=448748\n",
      "\t\tFILE: Number of read operations=0\n",
      "\t\tFILE: Number of large read operations=0\n",
      "\t\tFILE: Number of write operations=0\n",
      "\t\tHDFS: Number of bytes read=405\n",
      "\t\tHDFS: Number of bytes written=178\n",
      "\t\tHDFS: Number of read operations=9\n",
      "\t\tHDFS: Number of large read operations=0\n",
      "\t\tHDFS: Number of write operations=2\n",
      "\tJob Counters \n",
      "\t\tLaunched map tasks=2\n",
      "\t\tLaunched reduce tasks=1\n",
      "\t\tData-local map tasks=2\n",
      "\t\tTotal time spent by all maps in occupied slots (ms)=9302\n",
      "\t\tTotal time spent by all reduces in occupied slots (ms)=3521\n",
      "\t\tTotal time spent by all map tasks (ms)=9302\n",
      "\t\tTotal time spent by all reduce tasks (ms)=3521\n",
      "\t\tTotal vcore-milliseconds taken by all map tasks=9302\n",
      "\t\tTotal vcore-milliseconds taken by all reduce tasks=3521\n",
      "\t\tTotal megabyte-milliseconds taken by all map tasks=9525248\n",
      "\t\tTotal megabyte-milliseconds taken by all reduce tasks=3605504\n",
      "\tMap-Reduce Framework\n",
      "\t\tMap input records=4\n",
      "\t\tMap output records=4\n",
      "\t\tMap output bytes=178\n",
      "\t\tMap output materialized bytes=198\n",
      "\t\tInput split bytes=226\n",
      "\t\tCombine input records=0\n",
      "\t\tCombine output records=0\n",
      "\t\tReduce input groups=4\n",
      "\t\tReduce shuffle bytes=198\n",
      "\t\tReduce input records=4\n",
      "\t\tReduce output records=4\n",
      "\t\tSpilled Records=8\n",
      "\t\tShuffled Maps =2\n",
      "\t\tFailed Shuffles=0\n",
      "\t\tMerged Map outputs=2\n",
      "\t\tGC time elapsed (ms)=186\n",
      "\t\tCPU time spent (ms)=3090\n",
      "\t\tPhysical memory (bytes) snapshot=955367424\n",
      "\t\tVirtual memory (bytes) snapshot=4138381312\n",
      "\t\tTotal committed heap usage (bytes)=896532480\n",
      "\tShuffle Errors\n",
      "\t\tBAD_ID=0\n",
      "\t\tCONNECTION=0\n",
      "\t\tIO_ERROR=0\n",
      "\t\tWRONG_LENGTH=0\n",
      "\t\tWRONG_MAP=0\n",
      "\t\tWRONG_REDUCE=0\n",
      "\tFile Input Format Counters \n",
      "\t\tBytes Read=179\n",
      "\tFile Output Format Counters \n",
      "\t\tBytes Written=178\n",
      "20/01/30 22:03:58 INFO streaming.StreamJob: Output directory: /user/root/HW2/chinese-output\n"
     ]
    }
   ],
   "source": [
    "# part e - write your Hadooop streaming job here\n",
    "!hdfs dfs -rm -r {HDFS_DIR}/chinese-output\n",
    "!hadoop jar {JAR_FILE} \\\n",
    "  -files NBmodel.txt,NaiveBayes/classify_mapper.py \\\n",
    "  -mapper classify_mapper.py \\\n",
    "  -reducer /bin/cat \\\n",
    "  -input {HDFS_DIR}/chineseTest.txt \\\n",
    "  -output {HDFS_DIR}/chinese-output \\\n",
    "  -cmdenv PATH={PATH}"
   ]
  },
  {
   "cell_type": "code",
   "execution_count": 379,
   "metadata": {},
   "outputs": [],
   "source": [
    "# part e - retrieve test set results from HDFS (RUN THIS CELL AS IS)\n",
    "!hdfs dfs -cat {HDFS_DIR}/chinese-output/part-000* > NaiveBayes/chineseResults.txt"
   ]
  },
  {
   "cell_type": "code",
   "execution_count": 380,
   "metadata": {},
   "outputs": [
    {
     "name": "stdout",
     "output_type": "stream",
     "text": [
      "d5  1  -8.90668134500626   -8.10769031284611   1\n",
      "d6  1  -5.780743515794329  -4.179502370564408  1\n",
      "d7  0  -6.591673732011658  -7.511706880737812  0\n",
      "d8  0  -4.394449154674438  -5.565796731681498  0\n"
     ]
    }
   ],
   "source": [
    "# part e - take a look (RUN THIS CELL AS IS)\n",
    "!cat NaiveBayes/chineseResults.txt | column -t"
   ]
  },
  {
   "cell_type": "markdown",
   "metadata": {},
   "source": [
    "<table>\n",
    "<th> Expected output for the test set:</th>\n",
    "<tr align=Left><td><pre>\n",
    "d5\t1\t-8.90668134\t-8.10769031\t1\n",
    "d6\t1\t-5.78074351\t-4.17950237\t1\n",
    "d7\t0\t-6.59167373\t-7.51170688\t0\n",
    "d8\t0\t-4.39444915\t-5.56579673\t0\n",
    "</pre></td><tr>\n",
    "</table>"
   ]
  },
  {
   "cell_type": "markdown",
   "metadata": {},
   "source": [
    "# Question 8: Naive Bayes Training.\n",
    "In Question 7 we used a model that we had trained by hand. Next we'll develop the code to do that same training in parallel, making it suitable for use with larger corpora (like the Enron emails). The end result of the MapReduce job you write in this question should be a model text file that looks just like the example (`NBmodel.txt`) that we created by hand above.\n",
    "\n",
    "To refresh your memory about the training process take a look at  `6a` and `6b` where you described the pieces of information you'll need to collect in order to encode a Multinomial Naive Bayes model. We now want to retrieve those pieces of information while streaming over a corpus. The bulk of the task will be very similar to the word counting excercises you've already done but you may want to consider a slightly different key-value record structure to efficiently tally counts for each class. \n",
    "\n",
    "The most challenging (interesting?) design question will be how to retrieve the totals (# of documents and # of words in documents for each class). Of course, counting these numbers is easy. The hard part is the timing: you'll need to make sure you have the counts totalled up _before_ you start estimating the class conditional probabilities for each word. It would be best (i.e. most scalable) if we could find a way to do this tallying without storing the whole vocabulary in memory... Use an appropriate MapReduce design pattern to implement this efficiently! \n",
    "\n",
    "\n",
    "### Q8 Tasks:\n",
    "* __a) make a plan:__  Fill in the docstrings for __`NaiveBayes/train_mapper.py`__ and __`NaiveBayes/train_reducer.py`__ to appropriately reflect the format that each script will input/output. [`HINT:` _the input files_ (`enronemail_1h.txt` & `chineseTrain.txt`) _have a prespecified format and your output file should match_ `NBmodel.txt` _so you really only have to decide on an internal format for Hadoop_].\n",
    "\n",
    "\n",
    "* __b) implement it:__ Complete the code in __`NaiveBayes/train_mapper.py`__ and __`NaiveBayes/train_reducer.py`__ so that together they train a Multinomial Naive Bayes model __with no smoothing__. Make sure your end result is formatted correctly (see note above). Test your scripts independently and together (using `chineseTrain.txt` or test input of your own devising). When you are satisfied with your Python code design and run a Hadoop streaming command to run your job in parallel on the __chineseTrain.txt__. Confirm that your trained model matches your hand calculations from Question 5.\n",
    "\n",
    "\n",
    "* __c) short response:__ We saw in Question 6 that adding Laplace +1 smoothing makes our classifications less sensitve to rare words. However implementing this technique requires access to one additional piece of information that we had not previously used in our Naive Bayes training. What is that extra piece of information? [`HINT:` see equation 13.7 in Manning, Raghavan and Schutze].\n",
    "\n",
    "\n",
    "* __d) short response:__ There are a couple of approaches that we could take to handle the extra piece of information you identified in `c`: 1) if we knew this extra information beforehand, we could provide it to our reducer as a configurable parameter for the vocab size dynamically (_where would we get it in the first place?_). Or 2) we could compute it in the reducer without storing any bulky information in memory but then we'd need some postprocessing or a second MapReduce job to complete the calculation (_why?_). Breifly explain what is non-ideal about each of these options. \n",
    "\n",
    "\n",
    "* __e) code + short response:__ Choose one of the 2 options above. State your choice & reasoning in the space below then use that strategy to complete the code in __`NaiveBayes/train_reducer_smooth.py`__. Test this alternate reducer then write and run a Hadoop streaming job to train an MNB model with smoothing on the Chinese example. Your results should match the model that we provided for you above (and the calculations in the textbook example). __IMPORTANT NOTE:__ For full credit on this question, your code must work with multiple reducers. \n",
    "\n",
    "    - [`HINT:` You will need to implement custom partitioning - [Total Order Sort Notebook](https://github.com/UCB-w261/main/tree/master/HelpfulResources/TotalSortGuide/_total-sort-guide-spark2.01-JAN27-2017.ipynb)] \n",
    "\n",
    "    - [`HINT:` Don't start from scratch with this one -- you can just copy over your reducer code from part `b` and make the needed modifications]. \n"
   ]
  },
  {
   "cell_type": "markdown",
   "metadata": {},
   "source": [
    "\n",
    "__IMPORTANT NOTE:__ For full credit on this question, your code must work with multiple reducers. [`HINT:`_You will need to implement custom partitioning - [Total Order Sort Notebook](https://github.com/UCB-w261/main/tree/master/HelpfulResources/TotalSortGuide/_total-sort-guide-spark2.01-JAN27-2017.ipynb)]\n"
   ]
  },
  {
   "cell_type": "markdown",
   "metadata": {},
   "source": [
    "### Q8 Student Answers:\n",
    "> __ c)__ count of unique words\n",
    "\n",
    "> __ d)__ \n",
    "I am not sure how i would achieve the option 1, i would think that I have to pass over the entire dataset, sort and compare records and count. Whereas for option 2 - with postprocessing, we will have the count of unique words at the end of the reducer job and only for the individual partition whereas we need it when we are calculating each record from the start of the reducer job.\n",
    "\n",
    "> __ e)__ \n",
    "I expect postprocessing to be faster, as the number of records to pass over should be smaller. however the postprocessing means that I have to carry out the calculation of the conditional probability as part of the processing. In reality I would probably two approaches. one as described. Another implementing two mapreduce jobs. map + aggregate reduce >> map with unique + calculate reduce."
   ]
  },
  {
   "cell_type": "code",
   "execution_count": 442,
   "metadata": {},
   "outputs": [
    {
     "name": "stdout",
     "output_type": "stream",
     "text": [
      "=========== MAPPER DOCSTRING ============\n",
      "Mapper reads in text documents and emits word counts by class.\n",
      "INPUT:                                                    \n",
      "    DocID \\t true_class \\t subject \\t body                \n",
      "OUTPUT:                                                   \n",
      "    partitionKey \\t word \\t class0_partialCount,class1_partialCount       \n",
      "    \n",
      "=========== REDUCER DOCSTRING ============\n",
      "Reducer aggregates word counts by class and emits frequencies.\n",
      "\n",
      "INPUT:\n",
      "    partitionKey \\t word \\t class0_partialCount,class1_partialCount  \n",
      "OUTPUT:\n",
      "    word \\t {spamCount, hamCount, ham_cProb, spam_cProb}\n"
     ]
    }
   ],
   "source": [
    "# part a - do your work in train_mapper.py and train_reducer.py then RUN THIS CELL AS IS\n",
    "!chmod a+x NaiveBayes/train_mapper.py\n",
    "!chmod a+x NaiveBayes/train_reducer.py\n",
    "!chmod a+x NaiveBayes/train_reducer_smooth.py\n",
    "!chmod a+x NaiveBayes/smooth_postprocess.py\n",
    "!echo \"=========== MAPPER DOCSTRING ============\"\n",
    "!head -n 8 NaiveBayes/train_mapper.py | tail -n 6\n",
    "!echo \"=========== REDUCER DOCSTRING ============\"\n",
    "!head -n 8 NaiveBayes/train_reducer.py | tail -n 6"
   ]
  },
  {
   "cell_type": "markdown",
   "metadata": {},
   "source": [
    "__`part b starts here`:__ MNB _without_ Smoothing (training on Chinese Example Corpus)."
   ]
  },
  {
   "cell_type": "code",
   "execution_count": 414,
   "metadata": {},
   "outputs": [
    {
     "name": "stdout",
     "output_type": "stream",
     "text": [
      "A  !ClassWords  3  8\n",
      "B  !ClassWords  3  8\n",
      "B  ClassPriors  1  3\n",
      "A  beijing      0  1\n",
      "B  chinese      0  1\n",
      "B  chinese      0  1\n",
      "B  chinese      0  1\n",
      "B  chinese      0  1\n",
      "B  chinese      0  1\n",
      "B  chinese      1  0\n",
      "A  japan        1  0\n",
      "B  macao        0  1\n",
      "B  shanghai     0  1\n",
      "A  tokyo        1  0\n"
     ]
    }
   ],
   "source": [
    "# part b - write a unit test for your mapper here\n",
    "!cat NaiveBayes/chineseTrain.txt | NaiveBayes/train_mapper.py | sort -k2,2 | column -t"
   ]
  },
  {
   "cell_type": "code",
   "execution_count": 480,
   "metadata": {},
   "outputs": [
    {
     "name": "stdout",
     "output_type": "stream",
     "text": [
      "ClassPriors  1,3,0.25,0.75\n",
      "beijing      0,1,1,0.125\n",
      "chinese      1,5,0.3333333333333333,0.625\n",
      "japan        1,0,0.3333333333333333,1\n",
      "macao        0,1,1,0.125\n",
      "shanghai     0,1,1,0.125\n",
      "tokyo        1,0,0.3333333333333333,1\n"
     ]
    }
   ],
   "source": [
    "# part b - write a unit test for your reducer here\n",
    "!cat NaiveBayes/chineseTrain.txt | NaiveBayes/train_mapper.py | sort -k2,2| \\\n",
    "NaiveBayes/train_reducer.py | column -t"
   ]
  },
  {
   "cell_type": "code",
   "execution_count": 327,
   "metadata": {},
   "outputs": [
    {
     "name": "stdout",
     "output_type": "stream",
     "text": [
      "ClassPriors  1,3,0.25,0.75\n",
      "beijing      0,1,0.0,0.125\n",
      "chinese      1,5,0.3333333333333333,0.625\n",
      "japan        1,0,0.3333333333333333,0.0\n",
      "macao        0,1,0.0,0.125\n",
      "shanghai     0,1,0.0,0.125\n",
      "tokyo        1,0,0.3333333333333333,0.0\n"
     ]
    }
   ],
   "source": [
    "# part b - write a systems test for your mapper + reducer together here\n",
    "!cat NaiveBayes/chineseTrain.txt | NaiveBayes/train_mapper.py | sort -k2,2| \\\n",
    "NaiveBayes/train_reducer.py | sort | smooth_postprocess.py | column -t"
   ]
  },
  {
   "cell_type": "code",
   "execution_count": 228,
   "metadata": {},
   "outputs": [
    {
     "name": "stdout",
     "output_type": "stream",
     "text": [
      "Deleted /user/root/HW2/chinese-unsmoothed\n"
     ]
    }
   ],
   "source": [
    "# part b - clear (and name) an output directory in HDFS for your unsmoothed chinese NB model\n",
    "!hdfs dfs -rm -r {HDFS_DIR}/chinese-unsmoothed"
   ]
  },
  {
   "cell_type": "code",
   "execution_count": 481,
   "metadata": {},
   "outputs": [
    {
     "name": "stdout",
     "output_type": "stream",
     "text": [
      "Deleted /user/root/HW2/chinese-unsmoothed\n",
      "packageJobJar: [] [/usr/lib/hadoop-mapreduce/hadoop-streaming-2.6.0-cdh5.16.2.jar] /tmp/streamjob3886275266922781668.jar tmpDir=null\n",
      "20/01/31 18:52:57 INFO client.RMProxy: Connecting to ResourceManager at /0.0.0.0:8032\n",
      "20/01/31 18:52:57 INFO client.RMProxy: Connecting to ResourceManager at /0.0.0.0:8032\n",
      "20/01/31 18:52:57 INFO mapred.FileInputFormat: Total input paths to process : 1\n",
      "20/01/31 18:52:58 INFO mapreduce.JobSubmitter: number of splits:2\n",
      "20/01/31 18:52:58 INFO mapreduce.JobSubmitter: Submitting tokens for job: job_1579903014542_0127\n",
      "20/01/31 18:52:58 INFO impl.YarnClientImpl: Submitted application application_1579903014542_0127\n",
      "20/01/31 18:52:58 INFO mapreduce.Job: The url to track the job: http://docker.w261:8088/proxy/application_1579903014542_0127/\n",
      "20/01/31 18:52:58 INFO mapreduce.Job: Running job: job_1579903014542_0127\n",
      "20/01/31 18:53:05 INFO mapreduce.Job: Job job_1579903014542_0127 running in uber mode : false\n",
      "20/01/31 18:53:05 INFO mapreduce.Job:  map 0% reduce 0%\n",
      "20/01/31 18:53:13 INFO mapreduce.Job:  map 50% reduce 0%\n",
      "20/01/31 18:53:14 INFO mapreduce.Job:  map 100% reduce 0%\n",
      "20/01/31 18:53:20 INFO mapreduce.Job:  map 100% reduce 50%\n",
      "20/01/31 18:53:21 INFO mapreduce.Job:  map 100% reduce 100%\n",
      "20/01/31 18:53:21 INFO mapreduce.Job: Job job_1579903014542_0127 completed successfully\n",
      "20/01/31 18:53:21 INFO mapreduce.Job: Counters: 49\n",
      "\tFile System Counters\n",
      "\t\tFILE: Number of bytes read=314\n",
      "\t\tFILE: Number of bytes written=602326\n",
      "\t\tFILE: Number of read operations=0\n",
      "\t\tFILE: Number of large read operations=0\n",
      "\t\tFILE: Number of write operations=0\n",
      "\t\tHDFS: Number of bytes read=389\n",
      "\t\tHDFS: Number of bytes written=184\n",
      "\t\tHDFS: Number of read operations=12\n",
      "\t\tHDFS: Number of large read operations=0\n",
      "\t\tHDFS: Number of write operations=4\n",
      "\tJob Counters \n",
      "\t\tLaunched map tasks=2\n",
      "\t\tLaunched reduce tasks=2\n",
      "\t\tData-local map tasks=2\n",
      "\t\tTotal time spent by all maps in occupied slots (ms)=9432\n",
      "\t\tTotal time spent by all reduces in occupied slots (ms)=9136\n",
      "\t\tTotal time spent by all map tasks (ms)=9432\n",
      "\t\tTotal time spent by all reduce tasks (ms)=9136\n",
      "\t\tTotal vcore-milliseconds taken by all map tasks=9432\n",
      "\t\tTotal vcore-milliseconds taken by all reduce tasks=9136\n",
      "\t\tTotal megabyte-milliseconds taken by all map tasks=9658368\n",
      "\t\tTotal megabyte-milliseconds taken by all reduce tasks=9355264\n",
      "\tMap-Reduce Framework\n",
      "\t\tMap input records=4\n",
      "\t\tMap output records=17\n",
      "\t\tMap output bytes=268\n",
      "\t\tMap output materialized bytes=326\n",
      "\t\tInput split bytes=228\n",
      "\t\tCombine input records=0\n",
      "\t\tCombine output records=0\n",
      "\t\tReduce input groups=9\n",
      "\t\tReduce shuffle bytes=326\n",
      "\t\tReduce input records=17\n",
      "\t\tReduce output records=7\n",
      "\t\tSpilled Records=34\n",
      "\t\tShuffled Maps =4\n",
      "\t\tFailed Shuffles=0\n",
      "\t\tMerged Map outputs=4\n",
      "\t\tGC time elapsed (ms)=213\n",
      "\t\tCPU time spent (ms)=4640\n",
      "\t\tPhysical memory (bytes) snapshot=1145856000\n",
      "\t\tVirtual memory (bytes) snapshot=5525131264\n",
      "\t\tTotal committed heap usage (bytes)=1195376640\n",
      "\tShuffle Errors\n",
      "\t\tBAD_ID=0\n",
      "\t\tCONNECTION=0\n",
      "\t\tIO_ERROR=0\n",
      "\t\tWRONG_LENGTH=0\n",
      "\t\tWRONG_MAP=0\n",
      "\t\tWRONG_REDUCE=0\n",
      "\tFile Input Format Counters \n",
      "\t\tBytes Read=161\n",
      "\tFile Output Format Counters \n",
      "\t\tBytes Written=184\n",
      "20/01/31 18:53:21 INFO streaming.StreamJob: Output directory: /user/root/HW2/chinese-unsmoothed\n"
     ]
    }
   ],
   "source": [
    "# part b - write your hadoop streaming job\n",
    "!hdfs dfs -rm -r {HDFS_DIR}/chinese-unsmoothed\n",
    "!hadoop jar {JAR_FILE} \\\n",
    "  -D stream.num.map.output.key.fields=2 \\\n",
    "  -D mapreduce.job.output.key.comparator.class=org.apache.hadoop.mapred.lib.KeyFieldBasedComparator \\\n",
    "  -D mapreduce.partition.keypartitioner.options=\"-k1,1\" \\\n",
    "  -D mapreduce.partition.keycomparator.options=\"-k2,2 \" \\\n",
    "  -files NaiveBayes/train_mapper.py,NaiveBayes/train_reducer.py \\\n",
    "  -mapper train_mapper.py \\\n",
    "  -reducer train_reducer.py \\\n",
    "  -partitioner org.apache.hadoop.mapred.lib.KeyFieldBasedPartitioner \\\n",
    "  -input {HDFS_DIR}/chineseTrain.txt \\\n",
    "  -output {HDFS_DIR}/chinese-unsmoothed \\\n",
    "  -cmdenv PATH={PATH} \\\n",
    "  -numReduceTasks 2"
   ]
  },
  {
   "cell_type": "code",
   "execution_count": 329,
   "metadata": {},
   "outputs": [],
   "source": [
    "# part b - extract your results (i.e. model) to a local file\n",
    "!hdfs dfs -cat {HDFS_DIR}/chinese-unsmoothed/part-000* > NaiveBayes/UnsmoothedResults.txt"
   ]
  },
  {
   "cell_type": "code",
   "execution_count": 330,
   "metadata": {},
   "outputs": [
    {
     "name": "stdout",
     "output_type": "stream",
     "text": [
      "ClassPriors  1,3,0.25,0.75\n",
      "chinese      1,5,0.3333333333333333,0.625\n",
      "macao        0,1,0.0,0.125\n",
      "shanghai     0,1,0.0,0.125\n",
      "beijing      0,1,0.0,0.125\n",
      "japan        1,0,0.3333333333333333,0.0\n",
      "tokyo        1,0,0.3333333333333333,0.0\n"
     ]
    }
   ],
   "source": [
    "# part b - print your model so that we can confirm that it matches expected results\n",
    "!cat NaiveBayes/UnsmoothedResults.txt | column -t"
   ]
  },
  {
   "cell_type": "code",
   "execution_count": 288,
   "metadata": {},
   "outputs": [
    {
     "name": "stdout",
     "output_type": "stream",
     "text": [
      "D1\t1\t\tChinese Beijing Chinese\n",
      "D2\t1\t\tChinese Chinese Shanghai\n",
      "D3\t1\t\tChinese Macao\n",
      "D4\t0\t\tTokyo Japan Chinese\n"
     ]
    }
   ],
   "source": [
    "!cat NaiveBayes/chineseTrain.txt"
   ]
  },
  {
   "cell_type": "markdown",
   "metadata": {},
   "source": [
    "__`part e starts here`:__ MNB _with_ Smoothing (training on Chinese Example Corpus)."
   ]
  },
  {
   "cell_type": "code",
   "execution_count": 482,
   "metadata": {},
   "outputs": [
    {
     "name": "stdout",
     "output_type": "stream",
     "text": [
      "A  !ClassWords  3  8\n",
      "A  ClassPriors  1  3\n",
      "A  beijing      0  1\n",
      "A  chinese      0  1\n",
      "A  chinese      0  1\n",
      "A  chinese      0  1\n",
      "A  chinese      0  1\n",
      "A  chinese      0  1\n",
      "A  chinese      1  0\n",
      "A  japan        1  0\n",
      "A  macao        0  1\n",
      "A  shanghai     0  1\n",
      "A  tokyo        1  0\n"
     ]
    }
   ],
   "source": [
    "!cat NaiveBayes/chineseTrain.txt | NaiveBayes/train_mapper.py | sort -k2,2 | column -t"
   ]
  },
  {
   "cell_type": "code",
   "execution_count": 483,
   "metadata": {},
   "outputs": [
    {
     "name": "stdout",
     "output_type": "stream",
     "text": [
      "ClassPriors  1,3,0.25,0.75\n",
      "beijing      0,1,1,0.125\n",
      "chinese      1,5,0.3333333333333333,0.625\n",
      "japan        1,0,0.3333333333333333,1\n",
      "macao        0,1,1,0.125\n",
      "shanghai     0,1,1,0.125\n",
      "tokyo        1,0,0.3333333333333333,1\n"
     ]
    }
   ],
   "source": [
    "# part e - write a unit test for your NEW reducer here\n",
    "!cat NaiveBayes/chineseTrain.txt | NaiveBayes/train_mapper.py | sort -k2,2| \\\n",
    "NaiveBayes/train_reducer.py | column -t"
   ]
  },
  {
   "cell_type": "code",
   "execution_count": 484,
   "metadata": {},
   "outputs": [
    {
     "name": "stdout",
     "output_type": "stream",
     "text": [
      "ClassPriors  1,3,0.25,0.75\n",
      "beijing      0,1,1,0.125\n",
      "chinese      1,5,0.3333333333333333,0.625\n",
      "japan        1,0,0.3333333333333333,1\n",
      "macao        0,1,1,0.125\n",
      "shanghai     0,1,1,0.125\n",
      "tokyo        1,0,0.3333333333333333,1\n"
     ]
    }
   ],
   "source": [
    "# part e - write a systems test for your mapper + reducer together here\n",
    "!cat NaiveBayes/chineseTrain.txt | NaiveBayes/train_mapper.py | sort -k2,2| \\\n",
    "NaiveBayes/train_reducer.py | column -t"
   ]
  },
  {
   "cell_type": "code",
   "execution_count": 447,
   "metadata": {},
   "outputs": [
    {
     "name": "stdout",
     "output_type": "stream",
     "text": [
      "Deleted /user/root/HW2/chinese-smoothed\n"
     ]
    }
   ],
   "source": [
    "# part e - clear (and name) an output directory in HDFS for your SMOOTHED chinese NB model\n",
    "!hdfs dfs -rm -r {HDFS_DIR}/chinese-smoothed"
   ]
  },
  {
   "cell_type": "code",
   "execution_count": 463,
   "metadata": {},
   "outputs": [
    {
     "name": "stdout",
     "output_type": "stream",
     "text": [
      "Deleted /user/root/HW2/chinese-smoothed\n",
      "packageJobJar: [] [/usr/lib/hadoop-mapreduce/hadoop-streaming-2.6.0-cdh5.16.2.jar] /tmp/streamjob8274564141827684881.jar tmpDir=null\n",
      "20/01/31 00:41:40 INFO client.RMProxy: Connecting to ResourceManager at /0.0.0.0:8032\n",
      "20/01/31 00:41:41 INFO client.RMProxy: Connecting to ResourceManager at /0.0.0.0:8032\n",
      "20/01/31 00:41:41 INFO mapred.FileInputFormat: Total input paths to process : 1\n",
      "20/01/31 00:41:41 INFO mapreduce.JobSubmitter: number of splits:2\n",
      "20/01/31 00:41:41 INFO mapreduce.JobSubmitter: Submitting tokens for job: job_1579903014542_0118\n",
      "20/01/31 00:41:42 INFO impl.YarnClientImpl: Submitted application application_1579903014542_0118\n",
      "20/01/31 00:41:42 INFO mapreduce.Job: The url to track the job: http://docker.w261:8088/proxy/application_1579903014542_0118/\n",
      "20/01/31 00:41:42 INFO mapreduce.Job: Running job: job_1579903014542_0118\n",
      "20/01/31 00:41:49 INFO mapreduce.Job: Job job_1579903014542_0118 running in uber mode : false\n",
      "20/01/31 00:41:49 INFO mapreduce.Job:  map 0% reduce 0%\n",
      "20/01/31 00:41:56 INFO mapreduce.Job:  map 50% reduce 0%\n",
      "20/01/31 00:41:57 INFO mapreduce.Job:  map 100% reduce 0%\n",
      "20/01/31 00:42:03 INFO mapreduce.Job:  map 100% reduce 50%\n",
      "20/01/31 00:42:04 INFO mapreduce.Job:  map 100% reduce 100%\n",
      "20/01/31 00:42:05 INFO mapreduce.Job: Job job_1579903014542_0118 completed successfully\n",
      "20/01/31 00:42:05 INFO mapreduce.Job: Counters: 49\n",
      "\tFile System Counters\n",
      "\t\tFILE: Number of bytes read=314\n",
      "\t\tFILE: Number of bytes written=602458\n",
      "\t\tFILE: Number of read operations=0\n",
      "\t\tFILE: Number of large read operations=0\n",
      "\t\tFILE: Number of write operations=0\n",
      "\t\tHDFS: Number of bytes read=389\n",
      "\t\tHDFS: Number of bytes written=199\n",
      "\t\tHDFS: Number of read operations=12\n",
      "\t\tHDFS: Number of large read operations=0\n",
      "\t\tHDFS: Number of write operations=4\n",
      "\tJob Counters \n",
      "\t\tLaunched map tasks=2\n",
      "\t\tLaunched reduce tasks=2\n",
      "\t\tData-local map tasks=2\n",
      "\t\tTotal time spent by all maps in occupied slots (ms)=9180\n",
      "\t\tTotal time spent by all reduces in occupied slots (ms)=9313\n",
      "\t\tTotal time spent by all map tasks (ms)=9180\n",
      "\t\tTotal time spent by all reduce tasks (ms)=9313\n",
      "\t\tTotal vcore-milliseconds taken by all map tasks=9180\n",
      "\t\tTotal vcore-milliseconds taken by all reduce tasks=9313\n",
      "\t\tTotal megabyte-milliseconds taken by all map tasks=9400320\n",
      "\t\tTotal megabyte-milliseconds taken by all reduce tasks=9536512\n",
      "\tMap-Reduce Framework\n",
      "\t\tMap input records=4\n",
      "\t\tMap output records=17\n",
      "\t\tMap output bytes=268\n",
      "\t\tMap output materialized bytes=326\n",
      "\t\tInput split bytes=228\n",
      "\t\tCombine input records=0\n",
      "\t\tCombine output records=0\n",
      "\t\tReduce input groups=9\n",
      "\t\tReduce shuffle bytes=326\n",
      "\t\tReduce input records=17\n",
      "\t\tReduce output records=11\n",
      "\t\tSpilled Records=34\n",
      "\t\tShuffled Maps =4\n",
      "\t\tFailed Shuffles=0\n",
      "\t\tMerged Map outputs=4\n",
      "\t\tGC time elapsed (ms)=261\n",
      "\t\tCPU time spent (ms)=4450\n",
      "\t\tPhysical memory (bytes) snapshot=1036234752\n",
      "\t\tVirtual memory (bytes) snapshot=5503938560\n",
      "\t\tTotal committed heap usage (bytes)=1132986368\n",
      "\tShuffle Errors\n",
      "\t\tBAD_ID=0\n",
      "\t\tCONNECTION=0\n",
      "\t\tIO_ERROR=0\n",
      "\t\tWRONG_LENGTH=0\n",
      "\t\tWRONG_MAP=0\n",
      "\t\tWRONG_REDUCE=0\n",
      "\tFile Input Format Counters \n",
      "\t\tBytes Read=161\n",
      "\tFile Output Format Counters \n",
      "\t\tBytes Written=199\n",
      "20/01/31 00:42:05 INFO streaming.StreamJob: Output directory: /user/root/HW2/chinese-smoothed\n"
     ]
    }
   ],
   "source": [
    "# part e - write your hadoop streaming job\n",
    "!hdfs dfs -rm -r {HDFS_DIR}/chinese-smoothed\n",
    "!hadoop jar {JAR_FILE} \\\n",
    "  -D stream.num.map.output.key.fields=2 \\\n",
    "  -D mapreduce.job.output.key.comparator.class=org.apache.hadoop.mapred.lib.KeyFieldBasedComparator \\\n",
    "  -D mapreduce.partition.keypartitioner.options=\"-k1,1\" \\\n",
    "  -D mapreduce.partition.keycomparator.options=\"-k2,2 \" \\\n",
    "  -files NaiveBayes/train_mapper.py,NaiveBayes/train_reducer_smooth.py \\\n",
    "  -mapper train_mapper.py \\\n",
    "  -reducer train_reducer_smooth.py \\\n",
    "  -partitioner org.apache.hadoop.mapred.lib.KeyFieldBasedPartitioner \\\n",
    "  -input {HDFS_DIR}/chineseTrain.txt \\\n",
    "  -output {HDFS_DIR}/chinese-smoothed \\\n",
    "  -cmdenv PATH={PATH} \\\n",
    "  -numReduceTasks 2"
   ]
  },
  {
   "cell_type": "code",
   "execution_count": 466,
   "metadata": {},
   "outputs": [
    {
     "name": "stdout",
     "output_type": "stream",
     "text": [
      "ClassPriors  1,3,0.25,0.75\n",
      "beijing      0,1,0.1111111111111111,0.14285714285714285\n",
      "chinese      1,5,0.2222222222222222,0.42857142857142855\n",
      "japan        1,0,0.2222222222222222,0.07142857142857142\n",
      "macao        0,1,0.1111111111111111,0.14285714285714285\n",
      "shanghai     0,1,0.1111111111111111,0.14285714285714285\n",
      "tokyo        1,0,0.2222222222222222,0.07142857142857142\n"
     ]
    }
   ],
   "source": [
    "# part e - extract your results (i.e. model) to a local file\n",
    "!hdfs dfs -cat {HDFS_DIR}/chinese-smoothed/part-000* | sort | NaiveBayes/smooth_postprocess.py > NaiveBayes/SmoothedResults.txt\n",
    "\n",
    "!cat NaiveBayes/SmoothedResults.txt | column -t"
   ]
  },
  {
   "cell_type": "markdown",
   "metadata": {},
   "source": [
    "# Question 9: Enron Ham/Spam NB Classifier & Results.\n",
    "\n",
    "Fantastic work. We're finally ready to perform Spam Classification on the Enron Corpus. In this question you'll run the analysis you've developed, report its performance.\n",
    "\n",
    "### Q9 Tasks:\n",
    "* __a) train/test split:__ Run the provided code to split our Enron file into a training set and testing set then load them into HDFS. [`NOTE:` _Make sure you re calculate the vocab size for just the training set!_]\n",
    "\n",
    "* __b) train 2 models:__ Write Hadoop Streaming jobs to train MNB Models on the training set with and without smoothing. Save your models to local files at __`NaiveBayes/Unsmoothed/NBmodel.txt`__ and __`NaiveBayes/Smoothed/NBmodel.txt`__. [`NOTE:` _This naming is important because we wrote our classification task so that it expects a file of that name... if this inelegance frustrates you there is an alternative that would involve a few adjustments to your code [read more about it here](http://www.tnoda.com/blog/2013-11-23)._] Finally run the checks that we provide to confirm that your results are correct.\n",
    "\n",
    "\n",
    "* __c) code:__ Recall that we designed our classification job with just a mapper. An efficient way to report the performance of our models would be to simply add a reducer phase to this job and compute precision and recall right there. Complete the code in __`NaiveBayes/evaluation_reducer.py`__ and then write Hadoop jobs to evaluate your two models on the test set. Report their performance side by side. [`NOTE:` if you need a refresher on precision, recall and F1-score [Wikipedia](https://en.wikipedia.org/wiki/F1_score) is a good resource.]\n",
    "\n",
    "\n",
    "* __d) short response:__ Compare the performance of your two models. What do you notice about the unsmoothed model's predictions? Can you guess why this is happening? Which evaluation measure do you think is most relevant in our use case? [`NOTE:` _Feel free to answer using your common sense but if you want more information on evaluating the classification task checkout_ [this blogpost](https://tryolabs.com/blog/2013/03/25/why-accuracy-alone-bad-measure-classification-tasks-and-what-we-can-do-about-it/\n",
    ") or [this paper](http://www.flinders.edu.au/science_engineering/fms/School-CSEM/publications/tech_reps-research_artfcts/TRRA_2007.pdf\n",
    ")]\n",
    "\n"
   ]
  },
  {
   "cell_type": "markdown",
   "metadata": {},
   "source": [
    "### Q9 Student Answers:\n",
    "> __d)__ \n",
    "\n",
    "__Compare the performance of your two models.__\n",
    "smoothing definitely improves the model performance\n",
    "\n",
    "__What do you notice about the unsmoothed model's predictions?__\n",
    "it would seem that the smoothed results for ham / spam are a lot closer to one another than the unsmoothed results\n",
    "\n",
    "__Can you guess why this is happening?__\n",
    "becuase our classifications are less sensitve to rare words\n",
    "\n",
    "__Which evaluation measure do you think is most relevant in our use case?__\n",
    "precision and recall"
   ]
  },
  {
   "cell_type": "markdown",
   "metadata": {},
   "source": [
    "__Test/Train split__"
   ]
  },
  {
   "cell_type": "code",
   "execution_count": 289,
   "metadata": {},
   "outputs": [],
   "source": [
    "# part a - test/train split (RUN THIS CELL AS IS)\n",
    "!head -n 80 data/enronemail_1h.txt > data/enron_train.txt\n",
    "!tail -n 20 data/enronemail_1h.txt > data/enron_test.txt\n",
    "!hdfs dfs -copyFromLocal data/enron_train.txt {HDFS_DIR}\n",
    "!hdfs dfs -copyFromLocal data/enron_test.txt {HDFS_DIR}"
   ]
  },
  {
   "cell_type": "markdown",
   "metadata": {},
   "source": [
    "__Training__ (Enron MNB Model _without smoothing_ )"
   ]
  },
  {
   "cell_type": "code",
   "execution_count": 398,
   "metadata": {},
   "outputs": [
    {
     "name": "stdout",
     "output_type": "stream",
     "text": [
      "Deleted /user/root/HW2/enron-model\n",
      "packageJobJar: [] [/usr/lib/hadoop-mapreduce/hadoop-streaming-2.6.0-cdh5.16.2.jar] /tmp/streamjob1738499756421908179.jar tmpDir=null\n",
      "20/01/30 22:43:41 INFO client.RMProxy: Connecting to ResourceManager at /0.0.0.0:8032\n",
      "20/01/30 22:43:41 INFO client.RMProxy: Connecting to ResourceManager at /0.0.0.0:8032\n",
      "20/01/30 22:43:42 INFO mapred.FileInputFormat: Total input paths to process : 1\n",
      "20/01/30 22:43:42 INFO mapreduce.JobSubmitter: number of splits:2\n",
      "20/01/30 22:43:42 INFO mapreduce.JobSubmitter: Submitting tokens for job: job_1579903014542_0111\n",
      "20/01/30 22:43:42 INFO impl.YarnClientImpl: Submitted application application_1579903014542_0111\n",
      "20/01/30 22:43:42 INFO mapreduce.Job: The url to track the job: http://docker.w261:8088/proxy/application_1579903014542_0111/\n",
      "20/01/30 22:43:42 INFO mapreduce.Job: Running job: job_1579903014542_0111\n",
      "20/01/30 22:43:49 INFO mapreduce.Job: Job job_1579903014542_0111 running in uber mode : false\n",
      "20/01/30 22:43:49 INFO mapreduce.Job:  map 0% reduce 0%\n",
      "20/01/30 22:43:57 INFO mapreduce.Job:  map 50% reduce 0%\n",
      "20/01/30 22:43:58 INFO mapreduce.Job:  map 100% reduce 0%\n",
      "20/01/30 22:44:04 INFO mapreduce.Job:  map 100% reduce 50%\n",
      "20/01/30 22:44:05 INFO mapreduce.Job:  map 100% reduce 100%\n",
      "20/01/30 22:44:05 INFO mapreduce.Job: Job job_1579903014542_0111 completed successfully\n",
      "20/01/30 22:44:05 INFO mapreduce.Job: Counters: 50\n",
      "\tFile System Counters\n",
      "\t\tFILE: Number of bytes read=368689\n",
      "\t\tFILE: Number of bytes written=1339044\n",
      "\t\tFILE: Number of read operations=0\n",
      "\t\tFILE: Number of large read operations=0\n",
      "\t\tFILE: Number of write operations=0\n",
      "\t\tHDFS: Number of bytes read=167388\n",
      "\t\tHDFS: Number of bytes written=179539\n",
      "\t\tHDFS: Number of read operations=12\n",
      "\t\tHDFS: Number of large read operations=0\n",
      "\t\tHDFS: Number of write operations=4\n",
      "\tJob Counters \n",
      "\t\tKilled reduce tasks=1\n",
      "\t\tLaunched map tasks=2\n",
      "\t\tLaunched reduce tasks=2\n",
      "\t\tData-local map tasks=2\n",
      "\t\tTotal time spent by all maps in occupied slots (ms)=10584\n",
      "\t\tTotal time spent by all reduces in occupied slots (ms)=10006\n",
      "\t\tTotal time spent by all map tasks (ms)=10584\n",
      "\t\tTotal time spent by all reduce tasks (ms)=10006\n",
      "\t\tTotal vcore-milliseconds taken by all map tasks=10584\n",
      "\t\tTotal vcore-milliseconds taken by all reduce tasks=10006\n",
      "\t\tTotal megabyte-milliseconds taken by all map tasks=10838016\n",
      "\t\tTotal megabyte-milliseconds taken by all reduce tasks=10246144\n",
      "\tMap-Reduce Framework\n",
      "\t\tMap input records=80\n",
      "\t\tMap output records=25073\n",
      "\t\tMap output bytes=318531\n",
      "\t\tMap output materialized bytes=368701\n",
      "\t\tInput split bytes=226\n",
      "\t\tCombine input records=0\n",
      "\t\tCombine output records=0\n",
      "\t\tReduce input groups=4558\n",
      "\t\tReduce shuffle bytes=368701\n",
      "\t\tReduce input records=25073\n",
      "\t\tReduce output records=4556\n",
      "\t\tSpilled Records=50146\n",
      "\t\tShuffled Maps =4\n",
      "\t\tFailed Shuffles=0\n",
      "\t\tMerged Map outputs=4\n",
      "\t\tGC time elapsed (ms)=309\n",
      "\t\tCPU time spent (ms)=9010\n",
      "\t\tPhysical memory (bytes) snapshot=1143336960\n",
      "\t\tVirtual memory (bytes) snapshot=5523619840\n",
      "\t\tTotal committed heap usage (bytes)=1195376640\n",
      "\tShuffle Errors\n",
      "\t\tBAD_ID=0\n",
      "\t\tCONNECTION=0\n",
      "\t\tIO_ERROR=0\n",
      "\t\tWRONG_LENGTH=0\n",
      "\t\tWRONG_MAP=0\n",
      "\t\tWRONG_REDUCE=0\n",
      "\tFile Input Format Counters \n",
      "\t\tBytes Read=167162\n",
      "\tFile Output Format Counters \n",
      "\t\tBytes Written=179539\n",
      "20/01/30 22:44:05 INFO streaming.StreamJob: Output directory: /user/root/HW2/enron-model\n",
      "mkdir: cannot create directory `NaiveBayes/Unsmoothed': File exists\n"
     ]
    }
   ],
   "source": [
    "# part b -  Unsmoothed model (FILL IN THE MISSING CODE BELOW)\n",
    "\n",
    "# clear the output directory\n",
    "!hdfs dfs -rm -r {HDFS_DIR}/enron-model\n",
    "\n",
    "# hadoop command\n",
    "!hadoop jar {JAR_FILE} \\\n",
    "  -D stream.num.map.output.key.fields=2 \\\n",
    "  -D mapreduce.job.output.key.comparator.class=org.apache.hadoop.mapred.lib.KeyFieldBasedComparator \\\n",
    "  -D mapreduce.partition.keypartitioner.options=\"-k1,1\" \\\n",
    "  -D mapreduce.partition.keycomparator.options=\"-k2,2 \" \\\n",
    "  -files NaiveBayes/train_mapper.py,NaiveBayes/train_reducer.py \\\n",
    "  -mapper train_mapper.py \\\n",
    "  -reducer train_reducer.py \\\n",
    "  -partitioner org.apache.hadoop.mapred.lib.KeyFieldBasedPartitioner \\\n",
    "  -input {HDFS_DIR}/enron_train.txt \\\n",
    "  -output {HDFS_DIR}/enron-model \\\n",
    "  -cmdenv PATH={PATH} \\\n",
    "  -numReduceTasks 2\n",
    "\n",
    "# save the model locally\n",
    "!mkdir NaiveBayes/Unsmoothed\n",
    "!hdfs dfs -cat {HDFS_DIR}/enron-model/part-000* > NaiveBayes/Unsmoothed/NBmodel.txt"
   ]
  },
  {
   "cell_type": "code",
   "execution_count": 488,
   "metadata": {},
   "outputs": [
    {
     "name": "stdout",
     "output_type": "stream",
     "text": [
      "assistance\t2,4,0.0001725476662928134,0.00029682398337785694\n"
     ]
    }
   ],
   "source": [
    "# part b - check your UNSMOOTHED model results (RUN THIS CELL AS IS)\n",
    "!grep assistance NaiveBayes/Unsmoothed/NBmodel.txt\n",
    "# EXPECTED OUTPUT: assistance\t2,4,0.000172547666293,0.000296823983378"
   ]
  },
  {
   "cell_type": "code",
   "execution_count": 489,
   "metadata": {},
   "outputs": [
    {
     "name": "stdout",
     "output_type": "stream",
     "text": [
      "money\t1,22,8.62738331464067e-05,0.001632531908578213\n"
     ]
    }
   ],
   "source": [
    "# part b - check your UNSMOOTHED model results (RUN THIS CELL AS IS)\n",
    "!grep money NaiveBayes/Unsmoothed/NBmodel.txt\n",
    "# EXPECTED OUTPUT: money\t1,22,8.62738331464e-05,0.00163253190858"
   ]
  },
  {
   "cell_type": "markdown",
   "metadata": {},
   "source": [
    "__Training__ (Enron MNB Model _with Laplace +1 smoothing_ )"
   ]
  },
  {
   "cell_type": "code",
   "execution_count": 469,
   "metadata": {},
   "outputs": [
    {
     "name": "stdout",
     "output_type": "stream",
     "text": [
      "Deleted /user/root/HW2/smooth-model\n",
      "packageJobJar: [] [/usr/lib/hadoop-mapreduce/hadoop-streaming-2.6.0-cdh5.16.2.jar] /tmp/streamjob5053958865615182082.jar tmpDir=null\n",
      "20/01/31 00:47:14 INFO client.RMProxy: Connecting to ResourceManager at /0.0.0.0:8032\n",
      "20/01/31 00:47:14 INFO client.RMProxy: Connecting to ResourceManager at /0.0.0.0:8032\n",
      "20/01/31 00:47:15 INFO mapred.FileInputFormat: Total input paths to process : 1\n",
      "20/01/31 00:47:15 INFO mapreduce.JobSubmitter: number of splits:2\n",
      "20/01/31 00:47:15 INFO mapreduce.JobSubmitter: Submitting tokens for job: job_1579903014542_0120\n",
      "20/01/31 00:47:15 INFO impl.YarnClientImpl: Submitted application application_1579903014542_0120\n",
      "20/01/31 00:47:15 INFO mapreduce.Job: The url to track the job: http://docker.w261:8088/proxy/application_1579903014542_0120/\n",
      "20/01/31 00:47:15 INFO mapreduce.Job: Running job: job_1579903014542_0120\n",
      "20/01/31 00:47:23 INFO mapreduce.Job: Job job_1579903014542_0120 running in uber mode : false\n",
      "20/01/31 00:47:23 INFO mapreduce.Job:  map 0% reduce 0%\n",
      "20/01/31 00:47:31 INFO mapreduce.Job:  map 50% reduce 0%\n",
      "20/01/31 00:47:32 INFO mapreduce.Job:  map 100% reduce 0%\n",
      "20/01/31 00:47:39 INFO mapreduce.Job:  map 100% reduce 50%\n",
      "20/01/31 00:47:40 INFO mapreduce.Job:  map 100% reduce 100%\n",
      "20/01/31 00:47:40 INFO mapreduce.Job: Job job_1579903014542_0120 completed successfully\n",
      "20/01/31 00:47:40 INFO mapreduce.Job: Counters: 50\n",
      "\tFile System Counters\n",
      "\t\tFILE: Number of bytes read=368689\n",
      "\t\tFILE: Number of bytes written=1339188\n",
      "\t\tFILE: Number of read operations=0\n",
      "\t\tFILE: Number of large read operations=0\n",
      "\t\tFILE: Number of write operations=0\n",
      "\t\tHDFS: Number of bytes read=167388\n",
      "\t\tHDFS: Number of bytes written=72217\n",
      "\t\tHDFS: Number of read operations=12\n",
      "\t\tHDFS: Number of large read operations=0\n",
      "\t\tHDFS: Number of write operations=4\n",
      "\tJob Counters \n",
      "\t\tKilled reduce tasks=1\n",
      "\t\tLaunched map tasks=2\n",
      "\t\tLaunched reduce tasks=2\n",
      "\t\tData-local map tasks=2\n",
      "\t\tTotal time spent by all maps in occupied slots (ms)=10351\n",
      "\t\tTotal time spent by all reduces in occupied slots (ms)=10058\n",
      "\t\tTotal time spent by all map tasks (ms)=10351\n",
      "\t\tTotal time spent by all reduce tasks (ms)=10058\n",
      "\t\tTotal vcore-milliseconds taken by all map tasks=10351\n",
      "\t\tTotal vcore-milliseconds taken by all reduce tasks=10058\n",
      "\t\tTotal megabyte-milliseconds taken by all map tasks=10599424\n",
      "\t\tTotal megabyte-milliseconds taken by all reduce tasks=10299392\n",
      "\tMap-Reduce Framework\n",
      "\t\tMap input records=80\n",
      "\t\tMap output records=25073\n",
      "\t\tMap output bytes=318531\n",
      "\t\tMap output materialized bytes=368701\n",
      "\t\tInput split bytes=226\n",
      "\t\tCombine input records=0\n",
      "\t\tCombine output records=0\n",
      "\t\tReduce input groups=4558\n",
      "\t\tReduce shuffle bytes=368701\n",
      "\t\tReduce input records=25073\n",
      "\t\tReduce output records=4560\n",
      "\t\tSpilled Records=50146\n",
      "\t\tShuffled Maps =4\n",
      "\t\tFailed Shuffles=0\n",
      "\t\tMerged Map outputs=4\n",
      "\t\tGC time elapsed (ms)=319\n",
      "\t\tCPU time spent (ms)=8880\n",
      "\t\tPhysical memory (bytes) snapshot=1089015808\n",
      "\t\tVirtual memory (bytes) snapshot=5492166656\n",
      "\t\tTotal committed heap usage (bytes)=1195376640\n",
      "\tShuffle Errors\n",
      "\t\tBAD_ID=0\n",
      "\t\tCONNECTION=0\n",
      "\t\tIO_ERROR=0\n",
      "\t\tWRONG_LENGTH=0\n",
      "\t\tWRONG_MAP=0\n",
      "\t\tWRONG_REDUCE=0\n",
      "\tFile Input Format Counters \n",
      "\t\tBytes Read=167162\n",
      "\tFile Output Format Counters \n",
      "\t\tBytes Written=72217\n",
      "20/01/31 00:47:40 INFO streaming.StreamJob: Output directory: /user/root/HW2/smooth-model\n"
     ]
    }
   ],
   "source": [
    "# part b -  Smoothed model (FILL IN THE MISSING CODE BELOW)\n",
    "\n",
    "# clear the output directory\n",
    "!hdfs dfs -rm -r {HDFS_DIR}/smooth-model\n",
    "\n",
    "# hadoop command\n",
    "!hadoop jar {JAR_FILE} \\\n",
    "  -D stream.num.map.output.key.fields=2 \\\n",
    "  -D mapreduce.job.output.key.comparator.class=org.apache.hadoop.mapred.lib.KeyFieldBasedComparator \\\n",
    "  -D mapreduce.partition.keypartitioner.options=\"-k1,1\" \\\n",
    "  -D mapreduce.partition.keycomparator.options=\"-k2,2 \" \\\n",
    "  -files NaiveBayes/train_mapper.py,NaiveBayes/train_reducer_smooth.py \\\n",
    "  -mapper train_mapper.py \\\n",
    "  -reducer train_reducer_smooth.py \\\n",
    "  -partitioner org.apache.hadoop.mapred.lib.KeyFieldBasedPartitioner \\\n",
    "  -input {HDFS_DIR}/enron_train.txt \\\n",
    "  -output {HDFS_DIR}/smooth-model \\\n",
    "  -cmdenv PATH={PATH} \\\n",
    "  -numReduceTasks 2\n",
    "\n",
    "# apply POST PROCESS and save the model locally\n",
    "!mkdir NaiveBayes/Smoothed\n",
    "!hdfs dfs -cat {HDFS_DIR}/smooth-model/part-000* | sort | NaiveBayes/smooth_postprocess.py> NaiveBayes/Smoothed/NBmodel.txt"
   ]
  },
  {
   "cell_type": "code",
   "execution_count": 470,
   "metadata": {},
   "outputs": [
    {
     "name": "stdout",
     "output_type": "stream",
     "text": [
      "assistance\t2,4,0.0001858045336306206,0.00027730020520215184\n"
     ]
    }
   ],
   "source": [
    "# part b - check your SMOOTHED model results (RUN THIS CELL AS IS)\n",
    "!grep assistance NaiveBayes/Smoothed/NBmodel.txt\n",
    "# EXPECTED OUTPUT: assistance\t2,4,0.000185804533631,0.000277300205202"
   ]
  },
  {
   "cell_type": "code",
   "execution_count": 471,
   "metadata": {},
   "outputs": [
    {
     "name": "stdout",
     "output_type": "stream",
     "text": [
      "money\t1,22,0.0001238696890870804,0.0012755809439298986\n"
     ]
    }
   ],
   "source": [
    "# part b - check your SMOOTHED model results (RUN THIS CELL AS IS)\n",
    "!grep money NaiveBayes/Smoothed/NBmodel.txt\n",
    "# EXPECTED OUTPUT: money\t1,22,0.000123869689087,0.00127558094393"
   ]
  },
  {
   "cell_type": "markdown",
   "metadata": {},
   "source": [
    "__Evaluation__"
   ]
  },
  {
   "cell_type": "code",
   "execution_count": 474,
   "metadata": {},
   "outputs": [],
   "source": [
    "# part c - write your code in NaiveBayes/evaluation_reducer.py then RUN THIS\n",
    "!chmod a+x NaiveBayes/evaluation_reducer.py"
   ]
  },
  {
   "cell_type": "code",
   "execution_count": 544,
   "metadata": {},
   "outputs": [
    {
     "name": "stdout",
     "output_type": "stream",
     "text": [
      "d5\t1\t6.134092622766479\t7.532326167942548\t1\n",
      "d6\t1\t3.0081547935545476\t3.6041382256608454\t1\n",
      "d7\t0\t3.819085009771877\t6.93634273583425\t1\n",
      "d8\t0\t1.6218604324346575\t4.990432586777937\t1\n",
      "d5\t1\t6.134092622766479\t7.532326167942548\t True\n",
      "d6\t1\t3.0081547935545476\t3.6041382256608454\t True\n",
      "d7\t0\t3.819085009771877\t6.93634273583425\t False\n",
      "d8\t0\t1.6218604324346575\t4.990432586777937\t False\n",
      "# Documents: \t4.0\n",
      "True Positives:\t2.0\n",
      "True Negatives:\t0.0\n",
      "False Positives:\t2.0\n",
      "False Negatives:\t0.0\n",
      "Accuracy:\t0.5\n",
      "Precision:\t0.5\n",
      "Recall:\t1.0\n",
      "F-Score:\t0.6666666666666666\n"
     ]
    }
   ],
   "source": [
    "# part c - unit test your evaluation job on the chinese model (RUN THIS CELL AS IS)\n",
    "!cat NaiveBayes/chineseTest.txt | NaiveBayes/classify_mapper.py \n",
    "!cat NaiveBayes/chineseTest.txt | NaiveBayes/classify_mapper.py | NaiveBayes/evaluation_reducer.py"
   ]
  },
  {
   "cell_type": "code",
   "execution_count": 545,
   "metadata": {},
   "outputs": [
    {
     "name": "stdout",
     "output_type": "stream",
     "text": [
      "Deleted /user/root/HW2/unsmooth-results\n",
      "packageJobJar: [] [/usr/lib/hadoop-mapreduce/hadoop-streaming-2.6.0-cdh5.16.2.jar] /tmp/streamjob1169574045150028489.jar tmpDir=null\n",
      "20/01/31 21:37:17 INFO client.RMProxy: Connecting to ResourceManager at /0.0.0.0:8032\n",
      "20/01/31 21:37:17 INFO client.RMProxy: Connecting to ResourceManager at /0.0.0.0:8032\n",
      "20/01/31 21:37:17 INFO mapred.FileInputFormat: Total input paths to process : 1\n",
      "20/01/31 21:37:18 INFO mapreduce.JobSubmitter: number of splits:2\n",
      "20/01/31 21:37:18 INFO mapreduce.JobSubmitter: Submitting tokens for job: job_1579903014542_0147\n",
      "20/01/31 21:37:18 INFO impl.YarnClientImpl: Submitted application application_1579903014542_0147\n",
      "20/01/31 21:37:18 INFO mapreduce.Job: The url to track the job: http://docker.w261:8088/proxy/application_1579903014542_0147/\n",
      "20/01/31 21:37:18 INFO mapreduce.Job: Running job: job_1579903014542_0147\n",
      "20/01/31 21:37:25 INFO mapreduce.Job: Job job_1579903014542_0147 running in uber mode : false\n",
      "20/01/31 21:37:25 INFO mapreduce.Job:  map 0% reduce 0%\n",
      "20/01/31 21:37:33 INFO mapreduce.Job:  map 50% reduce 0%\n",
      "20/01/31 21:37:34 INFO mapreduce.Job:  map 100% reduce 0%\n",
      "20/01/31 21:37:38 INFO mapreduce.Job:  map 100% reduce 100%\n",
      "20/01/31 21:37:39 INFO mapreduce.Job: Job job_1579903014542_0147 completed successfully\n",
      "20/01/31 21:37:39 INFO mapreduce.Job: Counters: 49\n",
      "\tFile System Counters\n",
      "\t\tFILE: Number of bytes read=1348\n",
      "\t\tFILE: Number of bytes written=452284\n",
      "\t\tFILE: Number of read operations=0\n",
      "\t\tFILE: Number of large read operations=0\n",
      "\t\tFILE: Number of write operations=0\n",
      "\t\tHDFS: Number of bytes read=49909\n",
      "\t\tHDFS: Number of bytes written=1603\n",
      "\t\tHDFS: Number of read operations=9\n",
      "\t\tHDFS: Number of large read operations=0\n",
      "\t\tHDFS: Number of write operations=2\n",
      "\tJob Counters \n",
      "\t\tLaunched map tasks=2\n",
      "\t\tLaunched reduce tasks=1\n",
      "\t\tData-local map tasks=2\n",
      "\t\tTotal time spent by all maps in occupied slots (ms)=9493\n",
      "\t\tTotal time spent by all reduces in occupied slots (ms)=3571\n",
      "\t\tTotal time spent by all map tasks (ms)=9493\n",
      "\t\tTotal time spent by all reduce tasks (ms)=3571\n",
      "\t\tTotal vcore-milliseconds taken by all map tasks=9493\n",
      "\t\tTotal vcore-milliseconds taken by all reduce tasks=3571\n",
      "\t\tTotal megabyte-milliseconds taken by all map tasks=9720832\n",
      "\t\tTotal megabyte-milliseconds taken by all reduce tasks=3656704\n",
      "\tMap-Reduce Framework\n",
      "\t\tMap input records=20\n",
      "\t\tMap output records=20\n",
      "\t\tMap output bytes=1302\n",
      "\t\tMap output materialized bytes=1354\n",
      "\t\tInput split bytes=224\n",
      "\t\tCombine input records=0\n",
      "\t\tCombine output records=0\n",
      "\t\tReduce input groups=20\n",
      "\t\tReduce shuffle bytes=1354\n",
      "\t\tReduce input records=20\n",
      "\t\tReduce output records=29\n",
      "\t\tSpilled Records=40\n",
      "\t\tShuffled Maps =2\n",
      "\t\tFailed Shuffles=0\n",
      "\t\tMerged Map outputs=2\n",
      "\t\tGC time elapsed (ms)=180\n",
      "\t\tCPU time spent (ms)=3260\n",
      "\t\tPhysical memory (bytes) snapshot=944799744\n",
      "\t\tVirtual memory (bytes) snapshot=4143616000\n",
      "\t\tTotal committed heap usage (bytes)=896532480\n",
      "\tShuffle Errors\n",
      "\t\tBAD_ID=0\n",
      "\t\tCONNECTION=0\n",
      "\t\tIO_ERROR=0\n",
      "\t\tWRONG_LENGTH=0\n",
      "\t\tWRONG_MAP=0\n",
      "\t\tWRONG_REDUCE=0\n",
      "\tFile Input Format Counters \n",
      "\t\tBytes Read=49685\n",
      "\tFile Output Format Counters \n",
      "\t\tBytes Written=1603\n",
      "20/01/31 21:37:39 INFO streaming.StreamJob: Output directory: /user/root/HW2/unsmooth-results\n",
      "0015.1999-12-15.farmer     0                    -580.1213669207012   -231.89378751648943  False\n",
      "0015.2000-06-09.lokay      0                    -92.46802473248029   -87.72182952071803   False\n",
      "0015.2001-02-12.kitchen    0                    -4049.2546523442115  -3211.996354055393   False\n",
      "0015.2001-07-05.sa_and_hp  1                    -581.4450660275342   -651.0936992111352   False\n",
      "0015.2003-12-19.gp         1                    -684.9988948019626   -763.3433463739273   False\n",
      "0016.1999-12-15.farmer     0                    -574.2348663546682   -536.6603366453603   False\n",
      "0016.2001-02-12.kitchen    0                    -857.185157466994    -466.73027759702853  False\n",
      "0016.2001-07-05.sa_and_hp  1                    -581.4450660275342   -651.0936992111352   False\n",
      "0016.2001-07-06.sa_and_hp  1                    -11454.27950342863   -14776.8327442712    False\n",
      "0016.2003-12-19.gp         1                    -265.9306236324974   -749.4645716867724   False\n",
      "0016.2004-08-01.bg         1                    -454.28256634938356  -471.8332266269964   False\n",
      "0017.1999-12-14.kaminski   0                    -283.1721698756806   -250.94400957103468  False\n",
      "0017.2000-01-17.beck       0                    -2607.2310518590175  -1647.1655682358182  False\n",
      "0017.2001-04-03.williams   0                    -366.54672899898736  -343.9697962152703   False\n",
      "0017.2003-12-18.gp         1                    -153.99866436037206  -143.85456975799642  True\n",
      "0017.2004-08-01.bg         1                    -62.783833682335384  -125.39265772970472  False\n",
      "0017.2004-08-02.bg         1                    -1591.520199674238   -1590.9826818230717  True\n",
      "0018.1999-12-14.kaminski   0                    -774.1659241126549   -753.6503702525944   False\n",
      "0018.2001-07-13.sa_and_hp  1                    -2282.8406171897864  -2537.777319238778   False\n",
      "0018.2003-12-18.gp         1                    -2224.298189538506   -2318.4409345541712  False\n",
      "#                          Documents:           20.0\n",
      "True                       Positives:           2.0\n",
      "True                       Negatives:           0.0\n",
      "False                      Positives:           9.0\n",
      "False                      Negatives:           9.0\n",
      "Accuracy:                  0.1\n",
      "Precision:                 0.18181818181818182\n",
      "Recall:                    0.18181818181818182\n",
      "F-Score:                   0.18181818181818182\n"
     ]
    }
   ],
   "source": [
    "# part c - Evaluate the UNSMOOTHED Model Here (FILL IN THE MISSING CODE)\n",
    "\n",
    "# clear the output directory\n",
    "!hdfs dfs -rm -r {HDFS_DIR}/unsmooth-results\n",
    "\n",
    "# hadoop job\n",
    "!hadoop jar {JAR_FILE} \\\n",
    "  -files NaiveBayes/Unsmoothed/NBmodel.txt,NaiveBayes/classify_mapper.py,NaiveBayes/evaluation_reducer.py \\\n",
    "  -mapper classify_mapper.py \\\n",
    "  -reducer evaluation_reducer.py \\\n",
    "  -input {HDFS_DIR}/enron_test.txt \\\n",
    "  -output {HDFS_DIR}/unsmooth-results \\\n",
    "  -cmdenv PATH={PATH} \\\n",
    "\n",
    "# retrieve results locally\n",
    "!hdfs dfs -cat {HDFS_DIR}/unsmooth-results/part-000* > NaiveBayes/Unsmoothed/results.txt\n",
    "!cat NaiveBayes/Unsmoothed/results.txt | column -t"
   ]
  },
  {
   "cell_type": "code",
   "execution_count": 546,
   "metadata": {},
   "outputs": [
    {
     "name": "stdout",
     "output_type": "stream",
     "text": [
      "Deleted /user/root/HW2/smooth-results\n",
      "packageJobJar: [] [/usr/lib/hadoop-mapreduce/hadoop-streaming-2.6.0-cdh5.16.2.jar] /tmp/streamjob4751150189798274221.jar tmpDir=null\n",
      "20/01/31 21:38:03 INFO client.RMProxy: Connecting to ResourceManager at /0.0.0.0:8032\n",
      "20/01/31 21:38:03 INFO client.RMProxy: Connecting to ResourceManager at /0.0.0.0:8032\n",
      "20/01/31 21:38:04 INFO mapred.FileInputFormat: Total input paths to process : 1\n",
      "20/01/31 21:38:04 INFO mapreduce.JobSubmitter: number of splits:2\n",
      "20/01/31 21:38:04 INFO mapreduce.JobSubmitter: Submitting tokens for job: job_1579903014542_0148\n",
      "20/01/31 21:38:04 INFO impl.YarnClientImpl: Submitted application application_1579903014542_0148\n",
      "20/01/31 21:38:04 INFO mapreduce.Job: The url to track the job: http://docker.w261:8088/proxy/application_1579903014542_0148/\n",
      "20/01/31 21:38:04 INFO mapreduce.Job: Running job: job_1579903014542_0148\n",
      "20/01/31 21:38:12 INFO mapreduce.Job: Job job_1579903014542_0148 running in uber mode : false\n",
      "20/01/31 21:38:12 INFO mapreduce.Job:  map 0% reduce 0%\n",
      "20/01/31 21:38:19 INFO mapreduce.Job:  map 50% reduce 0%\n",
      "20/01/31 21:38:20 INFO mapreduce.Job:  map 100% reduce 0%\n",
      "20/01/31 21:38:24 INFO mapreduce.Job:  map 100% reduce 100%\n",
      "20/01/31 21:38:25 INFO mapreduce.Job: Job job_1579903014542_0148 completed successfully\n",
      "20/01/31 21:38:25 INFO mapreduce.Job: Counters: 50\n",
      "\tFile System Counters\n",
      "\t\tFILE: Number of bytes read=1349\n",
      "\t\tFILE: Number of bytes written=452274\n",
      "\t\tFILE: Number of read operations=0\n",
      "\t\tFILE: Number of large read operations=0\n",
      "\t\tFILE: Number of write operations=0\n",
      "\t\tHDFS: Number of bytes read=49909\n",
      "\t\tHDFS: Number of bytes written=1559\n",
      "\t\tHDFS: Number of read operations=9\n",
      "\t\tHDFS: Number of large read operations=0\n",
      "\t\tHDFS: Number of write operations=2\n",
      "\tJob Counters \n",
      "\t\tKilled map tasks=1\n",
      "\t\tLaunched map tasks=2\n",
      "\t\tLaunched reduce tasks=1\n",
      "\t\tData-local map tasks=2\n",
      "\t\tTotal time spent by all maps in occupied slots (ms)=9426\n",
      "\t\tTotal time spent by all reduces in occupied slots (ms)=3584\n",
      "\t\tTotal time spent by all map tasks (ms)=9426\n",
      "\t\tTotal time spent by all reduce tasks (ms)=3584\n",
      "\t\tTotal vcore-milliseconds taken by all map tasks=9426\n",
      "\t\tTotal vcore-milliseconds taken by all reduce tasks=3584\n",
      "\t\tTotal megabyte-milliseconds taken by all map tasks=9652224\n",
      "\t\tTotal megabyte-milliseconds taken by all reduce tasks=3670016\n",
      "\tMap-Reduce Framework\n",
      "\t\tMap input records=20\n",
      "\t\tMap output records=20\n",
      "\t\tMap output bytes=1303\n",
      "\t\tMap output materialized bytes=1355\n",
      "\t\tInput split bytes=224\n",
      "\t\tCombine input records=0\n",
      "\t\tCombine output records=0\n",
      "\t\tReduce input groups=20\n",
      "\t\tReduce shuffle bytes=1355\n",
      "\t\tReduce input records=20\n",
      "\t\tReduce output records=29\n",
      "\t\tSpilled Records=40\n",
      "\t\tShuffled Maps =2\n",
      "\t\tFailed Shuffles=0\n",
      "\t\tMerged Map outputs=2\n",
      "\t\tGC time elapsed (ms)=164\n",
      "\t\tCPU time spent (ms)=3070\n",
      "\t\tPhysical memory (bytes) snapshot=889569280\n",
      "\t\tVirtual memory (bytes) snapshot=4129468416\n",
      "\t\tTotal committed heap usage (bytes)=834142208\n",
      "\tShuffle Errors\n",
      "\t\tBAD_ID=0\n",
      "\t\tCONNECTION=0\n",
      "\t\tIO_ERROR=0\n",
      "\t\tWRONG_LENGTH=0\n",
      "\t\tWRONG_MAP=0\n",
      "\t\tWRONG_REDUCE=0\n",
      "\tFile Input Format Counters \n",
      "\t\tBytes Read=49685\n",
      "\tFile Output Format Counters \n",
      "\t\tBytes Written=1559\n",
      "20/01/31 21:38:25 INFO streaming.StreamJob: Output directory: /user/root/HW2/smooth-results\n",
      "0015.1999-12-15.farmer     0                   -586.4621392860905   -687.177606111272    True\n",
      "0015.2000-06-09.lokay      0                   -105.91959650553648  -109.59741528110919  True\n",
      "0015.2001-02-12.kitchen    0                   -4393.999711044562   -4603.995494568116   True\n",
      "0015.2001-07-05.sa_and_hp  1                   -754.2018818313297   -717.6587578937467   True\n",
      "0015.2003-12-19.gp         1                   -858.6592864616765   -803.3692067894757   True\n",
      "0016.1999-12-15.farmer     0                   -660.4196466548741   -684.6464593421547   True\n",
      "0016.2001-02-12.kitchen    0                   -916.8493891493322   -1024.1623712916742  True\n",
      "0016.2001-07-05.sa_and_hp  1                   -754.2018818313297   -717.6587578937467   True\n",
      "0016.2001-07-06.sa_and_hp  1                   -17058.138378145588  -15513.697974159779  True\n",
      "0016.2003-12-19.gp         1                   -785.6398309841212   -738.2611600431703   True\n",
      "0016.2004-08-01.bg         1                   -553.1934628540757   -515.6366681288395   True\n",
      "0017.1999-12-14.kaminski   0                   -340.6605712605845   -338.5172566018606   False\n",
      "0017.2000-01-17.beck       0                   -2692.280653507079   -3217.4799014436835  True\n",
      "0017.2001-04-03.williams   0                   -395.67884379605795  -392.46028248308914  False\n",
      "0017.2003-12-18.gp         1                   -187.40153738728694  -178.2143152661608   True\n",
      "0017.2004-08-01.bg         1                   -141.75276113075697  -135.18391808144366  True\n",
      "0017.2004-08-02.bg         1                   -1911.1079177336599  -1878.783561563328   True\n",
      "0018.1999-12-14.kaminski   0                   -850.1436521741396   -835.3708160385128   False\n",
      "0018.2001-07-13.sa_and_hp  1                   -2883.8017836350487  -2769.4134435258534  True\n",
      "0018.2003-12-18.gp         1                   -2754.180854550275   -2687.6281424016884  True\n",
      "#                          Documents:          20.0\n",
      "True                       Positives:          11.0\n",
      "True                       Negatives:          6.0\n",
      "False                      Positives:          3.0\n",
      "False                      Negatives:          0.0\n",
      "Accuracy:                  0.85\n",
      "Precision:                 0.7857142857142857\n",
      "Recall:                    1.0\n",
      "F-Score:                   0.88\n"
     ]
    }
   ],
   "source": [
    "# part c - Evaluate the SMOOTHED Model Here (FILL IN THE MISSING CODE)\n",
    "\n",
    "# clear the output directory\n",
    "!hdfs dfs -rm -r {HDFS_DIR}/smooth-results\n",
    "\n",
    "# hadoop job\n",
    "!hadoop jar {JAR_FILE} \\\n",
    "  -files NaiveBayes/Smoothed/NBmodel.txt,NaiveBayes/classify_mapper.py,NaiveBayes/evaluation_reducer.py \\\n",
    "  -mapper classify_mapper.py \\\n",
    "  -reducer evaluation_reducer.py \\\n",
    "  -input {HDFS_DIR}/enron_test.txt \\\n",
    "  -output {HDFS_DIR}/smooth-results \\\n",
    "  -cmdenv PATH={PATH} \\\n",
    "\n",
    "# retrieve results locally\n",
    "!hdfs dfs -cat {HDFS_DIR}/smooth-results/part-000* > NaiveBayes/Smoothed/results.txt\n",
    "!cat NaiveBayes/Smoothed/results.txt | column -t"
   ]
  },
  {
   "cell_type": "code",
   "execution_count": 547,
   "metadata": {},
   "outputs": [
    {
     "name": "stdout",
     "output_type": "stream",
     "text": [
      "=========== UNSMOOTHED MODEL ============\n",
      "# Documents: \t20.0\n",
      "True Positives:\t2.0\n",
      "True Negatives:\t0.0\n",
      "False Positives:\t9.0\n",
      "False Negatives:\t9.0\n",
      "Accuracy:\t0.1\n",
      "Precision:\t0.18181818181818182\n",
      "Recall:\t0.18181818181818182\n",
      "F-Score:\t0.18181818181818182\n",
      "=========== SMOOTHED MODEL ============\n",
      "# Documents: \t20.0\n",
      "True Positives:\t11.0\n",
      "True Negatives:\t6.0\n",
      "False Positives:\t3.0\n",
      "False Negatives:\t0.0\n",
      "Accuracy:\t0.85\n",
      "Precision:\t0.7857142857142857\n",
      "Recall:\t1.0\n",
      "F-Score:\t0.88\n"
     ]
    }
   ],
   "source": [
    "# part c - display results \n",
    "# NOTE: feel free to modify the tail commands to match the format of your results file\n",
    "print('=========== UNSMOOTHED MODEL ============')\n",
    "!tail -n 9 NaiveBayes/Unsmoothed/results.txt\n",
    "print('=========== SMOOTHED MODEL ============')\n",
    "!tail -n 9 NaiveBayes/Smoothed/results.txt"
   ]
  },
  {
   "cell_type": "markdown",
   "metadata": {},
   "source": [
    "__`EXPECTED RESULTS:`__ \n",
    "<table>\n",
    "<th>Unsmoothed Model</th>\n",
    "<th>Smoothed Model</th>\n",
    "<tr>\n",
    "<td><pre>\n",
    "# Documents:\t20\n",
    "True Positives:\t1\n",
    "True Negatives:\t9\n",
    "False Positives:\t0\n",
    "False Negatives:\t10\n",
    "Accuracy\t0.5\n",
    "Precision\t1.0\n",
    "Recall\t0.0909\n",
    "F-Score\t0.1666\n",
    "</pre></td>\n",
    "<td><pre>\n",
    "# Documents:\t20\n",
    "True Positives:\t11\n",
    "True Negatives:\t6\n",
    "False Positives:\t3\n",
    "False Negatives:\t0\n",
    "Accuracy\t0.85\n",
    "Precision\t0.7857\n",
    "Recall\t1.0\n",
    "F-Score\t0.88\n",
    "</pre></td>\n",
    "</tr>\n",
    "</table>\n",
    "\n",
    "__`NOTE:`__ _Don't be too disappointed if these seem low to you. We've trained and tested on a very very small corpus... bigger datasets coming soon!_"
   ]
  },
  {
   "cell_type": "markdown",
   "metadata": {},
   "source": [
    "# Question 10: Custom Partitioning and Secondary Sort\n",
    "\n",
    "Now that we have our model, we can analyse the results and think about future improvements.\n",
    "\n",
    "### Q10 Tasks:\n",
    "\n",
    "* __a) code + short response:__ Let's look at the top ten words with the highest conditional probability in `Spam` and in `Ham`. We'll do this by writing a Hadoop job that sorts the model file (`NaiveBayes/Smoothed/NBmodel.py`). Normally we'd have to run two jobs -- one that sorts on $P(word|ham)$ and another that sorts on $P(word|spam)$. However if we slighly modify the data format in the model file then we can get the top words in each class with just one job. We've written a mapper that will do just this for you. Read through __`NaiveBayes/model_sort_mapper.py`__ and then briefly explain how this mapper will allow us to partition and sort our model file. Write a Hadoop job that uses our mapper and `/bin/cat` for a reducer to partition and sort. Print out the top 10 words in each class (where 'top' == highest conditional probability).[`HINT:` _this should remind you a lot of what we did in Question 6._]\n",
    "\n",
    "\n",
    "* __b) short response:__ What do you notice about the 'top words' we printed in `a`? How would increasing the smoothing parameter 'k' affect the probabilities for the top words that you identified for 'a'. How would they affect the probabilities of words that occur much more in one class than another? In summary, how does the smoothing parameter 'k' affect the bias and the variance of our model. [`NOTE:` _you do not need to code anything for this task, but if you are struggling with it you could try changing 'k' and see what happens to the test set. We don't recommend doing this exploration with the Enron data because it will be harder to see the impact with such a big vocabulary_]"
   ]
  },
  {
   "cell_type": "markdown",
   "metadata": {},
   "source": [
    "### Q10 Student Answers:\n",
    "> __a)__ \n",
    "\n",
    "by partitioning by key3 ham/spam and sorting by maxClassP\n",
    "\n",
    "> __b)__ \n",
    "\n",
    "__What do you notice about the 'top words' we printed in `a`?__ \n",
    "a lot of short words prepositions, a, the, etc\n",
    "\n",
    "__How would increasing the smoothing parameter 'k' affect the probabilities for the top words that you identified for 'a'.__\n",
    "I expect the prominence of these words to increase as smoothing decreses the impact of rare words. And the divide between the ham/spam respectively to increase.\n",
    "\n",
    "__How would they affect the probabilities of words that occur much more in one class than another?__ it would move probabilities towards more uninformed mean. If large values are used than the influence of observed counts will be lower because estimated probabilities for the same number of observations will be lower. \n",
    "\n",
    "__In summary, how does the smoothing parameter 'k' affect the bias and the variance of our model.__\n",
    "A direct consequence is that the variance of the model (estimates) is lower, possibly with larger bias. Y\n"
   ]
  },
  {
   "cell_type": "code",
   "execution_count": 518,
   "metadata": {},
   "outputs": [
    {
     "name": "stdout",
     "output_type": "stream",
     "text": [
      "put: `/user/root/HW2/NBmodelSmooth.txt': File exists\n"
     ]
    }
   ],
   "source": [
    "# Copy the model \n",
    "PWD = !pwd\n",
    "PWD = PWD[0]\n",
    "TEST_TXT = PWD + \"/NaiveBayes/Smoothed/NBmodel.txt\"\n",
    "\n",
    "!hdfs dfs -put {TEST_TXT} {HDFS_DIR}/NBmodelSmooth.txt"
   ]
  },
  {
   "cell_type": "code",
   "execution_count": 530,
   "metadata": {},
   "outputs": [
    {
     "name": "stdout",
     "output_type": "stream",
     "text": [
      "Deleted /user/root/HW2/sorted-model\n",
      "packageJobJar: [] [/usr/lib/hadoop-mapreduce/hadoop-streaming-2.6.0-cdh5.16.2.jar] /tmp/streamjob720256677015459374.jar tmpDir=null\n",
      "20/01/31 20:22:48 INFO client.RMProxy: Connecting to ResourceManager at /0.0.0.0:8032\n",
      "20/01/31 20:22:48 INFO client.RMProxy: Connecting to ResourceManager at /0.0.0.0:8032\n",
      "20/01/31 20:22:49 INFO mapred.FileInputFormat: Total input paths to process : 1\n",
      "20/01/31 20:22:49 INFO mapreduce.JobSubmitter: number of splits:2\n",
      "20/01/31 20:22:49 INFO mapreduce.JobSubmitter: Submitting tokens for job: job_1579903014542_0134\n",
      "20/01/31 20:22:49 INFO impl.YarnClientImpl: Submitted application application_1579903014542_0134\n",
      "20/01/31 20:22:49 INFO mapreduce.Job: The url to track the job: http://docker.w261:8088/proxy/application_1579903014542_0134/\n",
      "20/01/31 20:22:49 INFO mapreduce.Job: Running job: job_1579903014542_0134\n",
      "20/01/31 20:22:57 INFO mapreduce.Job: Job job_1579903014542_0134 running in uber mode : false\n",
      "20/01/31 20:22:57 INFO mapreduce.Job:  map 0% reduce 0%\n",
      "20/01/31 20:23:03 INFO mapreduce.Job:  map 50% reduce 0%\n",
      "20/01/31 20:23:04 INFO mapreduce.Job:  map 100% reduce 0%\n",
      "20/01/31 20:23:09 INFO mapreduce.Job:  map 100% reduce 100%\n",
      "20/01/31 20:23:10 INFO mapreduce.Job: Job job_1579903014542_0134 completed successfully\n",
      "20/01/31 20:23:10 INFO mapreduce.Job: Counters: 49\n",
      "\tFile System Counters\n",
      "\t\tFILE: Number of bytes read=391008\n",
      "\t\tFILE: Number of bytes written=1232279\n",
      "\t\tFILE: Number of read operations=0\n",
      "\t\tFILE: Number of large read operations=0\n",
      "\t\tFILE: Number of write operations=0\n",
      "\t\tHDFS: Number of bytes read=258498\n",
      "\t\tHDFS: Number of bytes written=381892\n",
      "\t\tHDFS: Number of read operations=9\n",
      "\t\tHDFS: Number of large read operations=0\n",
      "\t\tHDFS: Number of write operations=2\n",
      "\tJob Counters \n",
      "\t\tLaunched map tasks=2\n",
      "\t\tLaunched reduce tasks=1\n",
      "\t\tData-local map tasks=2\n",
      "\t\tTotal time spent by all maps in occupied slots (ms)=9104\n",
      "\t\tTotal time spent by all reduces in occupied slots (ms)=3688\n",
      "\t\tTotal time spent by all map tasks (ms)=9104\n",
      "\t\tTotal time spent by all reduce tasks (ms)=3688\n",
      "\t\tTotal vcore-milliseconds taken by all map tasks=9104\n",
      "\t\tTotal vcore-milliseconds taken by all reduce tasks=3688\n",
      "\t\tTotal megabyte-milliseconds taken by all map tasks=9322496\n",
      "\t\tTotal megabyte-milliseconds taken by all reduce tasks=3776512\n",
      "\tMap-Reduce Framework\n",
      "\t\tMap input records=4556\n",
      "\t\tMap output records=4555\n",
      "\t\tMap output bytes=381892\n",
      "\t\tMap output materialized bytes=391014\n",
      "\t\tInput split bytes=230\n",
      "\t\tCombine input records=0\n",
      "\t\tCombine output records=0\n",
      "\t\tReduce input groups=4555\n",
      "\t\tReduce shuffle bytes=391014\n",
      "\t\tReduce input records=4555\n",
      "\t\tReduce output records=4555\n",
      "\t\tSpilled Records=9110\n",
      "\t\tShuffled Maps =2\n",
      "\t\tFailed Shuffles=0\n",
      "\t\tMerged Map outputs=2\n",
      "\t\tGC time elapsed (ms)=146\n",
      "\t\tCPU time spent (ms)=4150\n",
      "\t\tPhysical memory (bytes) snapshot=897404928\n",
      "\t\tVirtual memory (bytes) snapshot=4134469632\n",
      "\t\tTotal committed heap usage (bytes)=896532480\n",
      "\tShuffle Errors\n",
      "\t\tBAD_ID=0\n",
      "\t\tCONNECTION=0\n",
      "\t\tIO_ERROR=0\n",
      "\t\tWRONG_LENGTH=0\n",
      "\t\tWRONG_MAP=0\n",
      "\t\tWRONG_REDUCE=0\n",
      "\tFile Input Format Counters \n",
      "\t\tBytes Read=258268\n",
      "\tFile Output Format Counters \n",
      "\t\tBytes Written=381892\n",
      "20/01/31 20:23:10 INFO streaming.StreamJob: Output directory: /user/root/HW2/sorted-model\n",
      "the    453,535,0.02811841942276725,0.029726581997670677    spam  0.029726581997670677\n",
      "ect    378,0,0.023473306082001735,5.546004104043037e-05    ham   0.023473306082001735\n",
      "to     350,420,0.021739130434782608,0.023348677278021184   spam  0.023348677278021184\n",
      "and    258,277,0.01604112473677691,0.015417891409239643    ham   0.01604112473677691\n",
      "a      168,274,0.010466988727858293,0.015251511286118352   spam  0.015251511286118352\n",
      "your   35,271,0.002229654403567447,0.01508513116299706     spam  0.01508513116299706\n",
      "of     188,252,0.011705685618729096,0.014031390383228884   spam  0.014031390383228884\n",
      "you    80,252,0.005016722408026756,0.014031390383228884    spam  0.014031390383228884\n",
      "hou    203,0,0.0126347082868822,5.546004104043037e-05      ham   0.0126347082868822\n",
      "in     160,157,0.009971509971509971,0.008762686484387999   ham   0.009971509971509971\n",
      "for    148,153,0.00922829183698749,0.008540846320226277    ham   0.00922829183698749\n",
      "on     122,95,0.007617985878855444,0.005324163939881316    ham   0.007617985878855444\n",
      "enron  116,0,0.007246376811594203,5.546004104043037e-05    ham   0.007246376811594203\n",
      "i      113,106,0.007060572277963582,0.00593422439132605    ham   0.007060572277963582\n",
      "will   113,69,0.007060572277963582,0.003882202872830126    ham   0.007060572277963582\n",
      "it     30,119,0.0019199801808497462,0.0066552049248516446  spam  0.0066552049248516446\n",
      "this   99,90,0.00619348445435402,0.005046863734679163      ham   0.00619348445435402\n",
      "com    74,108,0.004645113340765515,0.006045144473406911    spam  0.006045144473406911\n",
      "be     90,84,0.005636070853462158,0.004714103488436582     ham   0.005636070853462158\n",
      "that   71,100,0.004459308807134894,0.005601464145083467    spam  0.005601464145083467\n"
     ]
    }
   ],
   "source": [
    "# part a - write your Hadoop job here (sort smoothed model on P(word|class))\n",
    "\n",
    "# clear the output directory\n",
    "!hdfs dfs -rm -r {HDFS_DIR}/sorted-model\n",
    "\n",
    "# hadoop job\n",
    "!hadoop jar {JAR_FILE} \\\n",
    "  -D stream.num.map.output.key.fields=4 \\\n",
    "  -D mapreduce.job.output.key.comparator.class=org.apache.hadoop.mapred.lib.KeyFieldBasedComparator \\\n",
    "  -D mapreduce.partition.keypartitioner.options=\"-k3,3\" \\\n",
    "  -D mapreduce.partition.keycomparator.options=\"-k4,4 -nr\" \\\n",
    "  -files NaiveBayes/model_sort_mapper.py \\\n",
    "  -mapper model_sort_mapper.py \\\n",
    "  -reducer /bin/cat \\\n",
    "  -partitioner org.apache.hadoop.mapred.lib.KeyFieldBasedPartitioner \\\n",
    "  -input {HDFS_DIR}/NBmodelSmooth.txt \\\n",
    "  -output {HDFS_DIR}/sorted-model \\\n",
    "  -cmdenv PATH={PATH} \\\n",
    "\n",
    "# retrieve results locally\n",
    "!hdfs dfs -cat {HDFS_DIR}/sorted-model/part-000* > NaiveBayes/Smoothed/sortedResults.txt\n",
    "!head -n 20 NaiveBayes/Smoothed/sortedResults.txt | column -t"
   ]
  },
  {
   "cell_type": "code",
   "execution_count": 529,
   "metadata": {},
   "outputs": [
    {
     "name": "stdout",
     "output_type": "stream",
     "text": [
      "=========== PART-00000 ============\n",
      "ect\t378,0,0.023473306082001735,5.546004104043037e-05\tham\t0.023473306082001735\t\n",
      "and\t258,277,0.01604112473677691,0.015417891409239643\tham\t0.01604112473677691\t\n",
      "hou\t203,0,0.0126347082868822,5.546004104043037e-05\tham\t0.0126347082868822\t\n",
      "in\t160,157,0.009971509971509971,0.008762686484387999\tham\t0.009971509971509971\t\n",
      "for\t148,153,0.00922829183698749,0.008540846320226277\tham\t0.00922829183698749\t\n",
      "on\t122,95,0.007617985878855444,0.005324163939881316\tham\t0.007617985878855444\t\n",
      "enron\t116,0,0.007246376811594203,5.546004104043037e-05\tham\t0.007246376811594203\t\n",
      "will\t113,69,0.007060572277963582,0.003882202872830126\tham\t0.007060572277963582\t\n",
      "i\t113,106,0.007060572277963582,0.00593422439132605\tham\t0.007060572277963582\t\n",
      "this\t99,90,0.00619348445435402,0.005046863734679163\tham\t0.00619348445435402\t\n",
      "sort: write failed: standard output: Broken pipe\n",
      "sort: write error\n",
      "=========== PART-00001 ============\n",
      "the\t453,535,0.02811841942276725,0.029726581997670677\tspam\t0.029726581997670677\t\n",
      "to\t350,420,0.021739130434782608,0.023348677278021184\tspam\t0.023348677278021184\t\n",
      "a\t168,274,0.010466988727858293,0.015251511286118352\tspam\t0.015251511286118352\t\n",
      "your\t35,271,0.002229654403567447,0.01508513116299706\tspam\t0.01508513116299706\t\n",
      "you\t80,252,0.005016722408026756,0.014031390383228884\tspam\t0.014031390383228884\t\n",
      "of\t188,252,0.011705685618729096,0.014031390383228884\tspam\t0.014031390383228884\t\n",
      "it\t30,119,0.0019199801808497462,0.0066552049248516446\tspam\t0.0066552049248516446\t\n",
      "com\t74,108,0.004645113340765515,0.006045144473406911\tspam\t0.006045144473406911\t\n",
      "that\t71,100,0.004459308807134894,0.005601464145083467\tspam\t0.005601464145083467\t\n",
      "or\t41,88,0.002601263470828688,0.004935943652598303\tspam\t0.004935943652598303\t\n",
      "sort: write failed: standard output: Broken pipe\n",
      "sort: write error\n"
     ]
    }
   ],
   "source": [
    "# part b - print top words in each class\n",
    "print('=========== PART-00000 ============')\n",
    "!awk '{ if ($3 == \"ham\") { print } }' NaiveBayes/Smoothed/sortedResults.txt | sort -k4 -nr | head -n 10 \n",
    "print('=========== PART-00001 ============')\n",
    "!awk '{ if ($3 == \"spam\") { print } }' NaiveBayes/Smoothed/sortedResults.txt | sort -k4 -nr | head -n 10 "
   ]
  },
  {
   "cell_type": "raw",
   "metadata": {},
   "source": [
    "Expected results:\n",
    "============== PART-00000===============\n",
    "ect\t378,0,0.023473306082001735,5.546004104043037e-05\tham\t0.023473306082001735\t\n",
    "and\t258,277,0.01604112473677691,0.015417891409239643\tham\t0.01604112473677691\t\n",
    "hou\t203,0,0.0126347082868822,5.546004104043037e-05\tham\t0.0126347082868822\t\n",
    "in\t160,157,0.009971509971509971,0.008762686484387999\tham\t0.009971509971509971\t\n",
    "for\t148,153,0.00922829183698749,0.008540846320226277\tham\t0.00922829183698749\t\n",
    "on\t122,95,0.007617985878855444,0.005324163939881316\tham\t0.007617985878855444\t\n",
    "enron\t116,0,0.007246376811594203,5.546004104043037e-05\tham\t0.007246376811594203\t\n",
    "will\t113,69,0.007060572277963582,0.003882202872830126\tham\t0.007060572277963582\t\n",
    "i\t113,106,0.007060572277963582,0.00593422439132605\tham\t0.007060572277963582\t\n",
    "this\t99,90,0.00619348445435402,0.005046863734679163\tham\t0.00619348445435402\t\n",
    "cat: Unable to write to output stream.\n",
    "============== PART-00001===============\n",
    "the\t453,535,0.02811841942276725,0.029726581997670677\tspam\t0.029726581997670677\t\n",
    "to\t350,420,0.021739130434782608,0.023348677278021184\tspam\t0.023348677278021184\t\n",
    "a\t168,274,0.010466988727858293,0.015251511286118352\tspam\t0.015251511286118352\t\n",
    "your\t35,271,0.002229654403567447,0.01508513116299706\tspam\t0.01508513116299706\t\n",
    "of\t188,252,0.011705685618729096,0.014031390383228884\tspam\t0.014031390383228884\t\n",
    "you\t80,252,0.005016722408026756,0.014031390383228884\tspam\t0.014031390383228884\t\n",
    "it\t30,119,0.0019199801808497462,0.0066552049248516446\tspam\t0.0066552049248516446\t\n",
    "com\t74,108,0.004645113340765515,0.006045144473406911\tspam\t0.006045144473406911\t\n",
    "that\t71,100,0.004459308807134894,0.005601464145083467\tspam\t0.005601464145083467\t\n",
    "or\t41,88,0.002601263470828688,0.004935943652598303\tspam\t0.004935943652598303\t\n",
    "cat: Unable to write to output stream.\n"
   ]
  },
  {
   "cell_type": "markdown",
   "metadata": {},
   "source": [
    "### Congratulations, you have completed HW2! Please refer to the readme for submission instructions.\n",
    "\n",
    "If you would like to provide feedback regarding this homework, please use the survey at: https://docs.google.com/forms/d/e/1FAIpQLSce9feiQeSkdP43A0ZYui1tMGIBfLfzb0rmgToQeZD9bXXX8Q/viewform"
   ]
  },
  {
   "cell_type": "code",
   "execution_count": null,
   "metadata": {},
   "outputs": [],
   "source": []
  }
 ],
 "metadata": {
  "kernelspec": {
   "display_name": "Python 3",
   "language": "python",
   "name": "python3"
  },
  "language_info": {
   "codemirror_mode": {
    "name": "ipython",
    "version": 3
   },
   "file_extension": ".py",
   "mimetype": "text/x-python",
   "name": "python",
   "nbconvert_exporter": "python",
   "pygments_lexer": "ipython3",
   "version": "3.7.5"
  }
 },
 "nbformat": 4,
 "nbformat_minor": 4
}
